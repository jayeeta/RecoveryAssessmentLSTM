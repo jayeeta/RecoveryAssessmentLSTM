{
 "cells": [
  {
   "cell_type": "code",
   "execution_count": 1,
   "metadata": {
    "id": "CC5S3BbZKunc"
   },
   "outputs": [],
   "source": [
    "%matplotlib inline\n",
    "import matplotlib.pyplot as plt\n",
    "import seaborn as sns\n",
    "\n",
    "import pandas as pd\n",
    "import numpy as np\n",
    "from pylab import rcParams\n",
    "\n",
    "import tensorflow as tf\n",
    "from tensorflow import keras\n",
    "from tensorflow.keras import optimizers, Sequential\n",
    "from tensorflow.keras.models import Model\n",
    "from tensorflow.keras.utils import plot_model\n",
    "from tensorflow.keras.layers import Dense, LSTM, RepeatVector, TimeDistributed\n",
    "from tensorflow.keras.callbacks import ModelCheckpoint, TensorBoard\n",
    "\n",
    "from sklearn.preprocessing import StandardScaler\n",
    "from sklearn.model_selection import train_test_split\n",
    "from sklearn.metrics import confusion_matrix, precision_recall_curve\n",
    "from sklearn.metrics import recall_score, classification_report, auc, roc_curve\n",
    "from sklearn.metrics import precision_recall_fscore_support, f1_score\n",
    "\n",
    "from numpy.random import seed\n",
    "seed(7)\n",
    "from sklearn.model_selection import train_test_split\n",
    "\n",
    "SEED = 123 #used to help randomly select the data points\n",
    "DATA_SPLIT_PCT = 0.2\n",
    "\n",
    "rcParams['figure.figsize'] = 8, 6\n",
    "LABELS = [\"Normal\",\"Break\"]"
   ]
  },
  {
   "cell_type": "code",
   "execution_count": 2,
   "metadata": {
    "id": "vdd2WhOcZ9ju"
   },
   "outputs": [],
   "source": [
    "from sklearn.preprocessing import MinMaxScaler"
   ]
  },
  {
   "cell_type": "code",
   "execution_count": 3,
   "metadata": {},
   "outputs": [
    {
     "name": "stdout",
     "output_type": "stream",
     "text": [
      "2.2.0\n"
     ]
    }
   ],
   "source": [
    "print(tf.__version__)"
   ]
  },
  {
   "cell_type": "code",
   "execution_count": 117,
   "metadata": {
    "id": "P33wTOUlKw7W"
   },
   "outputs": [],
   "source": [
    "def export_csv():\n",
    "    # Left lower extremity\n",
    "    res = {}\n",
    "\n",
    "    # # Annotations and Metadata\n",
    "    # res['GRF_Annotation'] = pd.read_csv(r'https://s3-eu-west-1.amazonaws.com/pstorage-npg-968563215/22062960/GRF_metadata.csv')\n",
    "\n",
    "    # Left lower extremity\n",
    "    #res['GRF_F_V_PRO_left'] = pd.read_csv(r'GRF_F_V_PRO_left.csv')\n",
    "\n",
    "    #res['GRF_F_AP_PRO_left'] = pd.read_csv(r'GRF_F_AP_PRO_left.csv')\n",
    "\n",
    "    #res['GRF_F_ML_PRO_left'] = pd.read_csv(r'GRF_F_ML_PRO_left.csv')\n",
    "\n",
    "    # res['GRF_COP_AP_PRO_left'] = pd.read_csv(r'GRF_COP_AP_PRO_left.csv')\n",
    "\n",
    "    # res['GRF_COP_ML_PRO_left'] = pd.read_csv(r'GRF_COP_ML_PRO_left.csv')\n",
    "\n",
    "    # Right lower extremity\n",
    "    #res['GRF_F_V_PRO_right'] = pd.read_csv(r'GRF_F_V_PRO_right.csv')\n",
    "\n",
    "    #res['GRF_F_AP_PRO_right'] = pd.read_csv(r'GRF_F_AP_PRO_right.csv')\n",
    "\n",
    "    res['GRF_F_ML_PRO_right'] = pd.read_csv(r'GRF_F_ML_PRO_right.csv')\n",
    "\n",
    "    #res['GRF_COP_AP_PRO_right'] = pd.read_csv(r'GRF_COP_AP_PRO_right.csv')\n",
    "\n",
    "    #res['GRF_COP_ML_PRO_right'] = pd.read_csv(r'GRF_COP_ML_PRO_right.csv')\n",
    "\n",
    "    # Annotations and Metadata\n",
    "    res['GRF_Annotation'] = pd.read_csv(r'GRF_metadata.csv')\n",
    "    return res"
   ]
  },
  {
   "cell_type": "code",
   "execution_count": 118,
   "metadata": {
    "id": "mYBwqnXkKzHz"
   },
   "outputs": [],
   "source": [
    "df_dict = export_csv()"
   ]
  },
  {
   "cell_type": "code",
   "execution_count": 119,
   "metadata": {},
   "outputs": [
    {
     "data": {
      "text/plain": [
       "{'GRF_F_ML_PRO_right':        SUBJECT_ID  SESSION_ID  TRIAL_ID  F_ML_PRO_1  F_ML_PRO_2  F_ML_PRO_3  \\\n",
       " 0             510         413         1   -0.002149   -0.004597   -0.007017   \n",
       " 1             510         413         2   -0.004095   -0.007960   -0.010888   \n",
       " 2             510         413         3   -0.002118   -0.005818   -0.010251   \n",
       " 3             510         413         4   -0.003031   -0.007276   -0.012888   \n",
       " 4             510         413         6   -0.005082   -0.010662   -0.016314   \n",
       " ...           ...         ...       ...         ...         ...         ...   \n",
       " 75727          93   999910375         6   -0.003705   -0.010468   -0.019982   \n",
       " 75728          93   999910375         7   -0.004904   -0.012351   -0.022487   \n",
       " 75729          93   999910375         9   -0.002369   -0.007711   -0.015523   \n",
       " 75730          93   999910375        10   -0.004149   -0.011612   -0.022090   \n",
       " 75731          93   999910375        11   -0.002732   -0.007386   -0.014297   \n",
       " \n",
       "        F_ML_PRO_4  F_ML_PRO_5  F_ML_PRO_6  F_ML_PRO_7  ...  F_ML_PRO_92  \\\n",
       " 0       -0.009617   -0.013342   -0.018157   -0.022704  ...     0.089247   \n",
       " 1       -0.012381   -0.013845   -0.016565   -0.019989  ...     0.009087   \n",
       " 2       -0.013861   -0.017083   -0.021049   -0.025511  ...     0.045680   \n",
       " 3       -0.018830   -0.024121   -0.028953   -0.032900  ...     0.010074   \n",
       " 4       -0.021915   -0.028021   -0.034858   -0.041648  ...     0.003482   \n",
       " ...           ...         ...         ...         ...  ...          ...   \n",
       " 75727   -0.030965   -0.040167   -0.044676   -0.043890  ...    -0.016140   \n",
       " 75728   -0.033842   -0.043316   -0.047949   -0.047662  ...     0.022515   \n",
       " 75729   -0.024941   -0.033150   -0.037019   -0.036185  ...    -0.005130   \n",
       " 75730   -0.034151   -0.044222   -0.048486   -0.046313  ...     0.006570   \n",
       " 75731   -0.023052   -0.032227   -0.039306   -0.043367  ...    -0.008973   \n",
       " \n",
       "        F_ML_PRO_93  F_ML_PRO_94  F_ML_PRO_95  F_ML_PRO_96  F_ML_PRO_97  \\\n",
       " 0         0.070493     0.051257     0.036439     0.027087     0.021635   \n",
       " 1         0.005528     0.002327     0.000247    -0.000669    -0.000716   \n",
       " 2         0.039442     0.031751     0.024784     0.019807     0.016656   \n",
       " 3         0.007399     0.005054     0.003709     0.003223     0.002947   \n",
       " 4         0.000928    -0.000839    -0.001606    -0.001531    -0.001024   \n",
       " ...            ...          ...          ...          ...          ...   \n",
       " 75727    -0.015600    -0.013777    -0.010883    -0.007433    -0.003868   \n",
       " 75728     0.016334     0.010997     0.006881     0.004030     0.002513   \n",
       " 75729    -0.008492    -0.010754    -0.011227    -0.009923    -0.007298   \n",
       " 75730     0.002960     0.000396    -0.000675    -0.000578     0.000351   \n",
       " 75731    -0.013719    -0.017315    -0.018858    -0.017907    -0.014498   \n",
       " \n",
       "        F_ML_PRO_98  F_ML_PRO_99  F_ML_PRO_100  F_ML_PRO_101  \n",
       " 0         0.018068     0.014995      0.012001      0.009341  \n",
       " 1        -0.000270     0.000274      0.000672      0.000840  \n",
       " 2         0.014614     0.013103      0.011776      0.010462  \n",
       " 3         0.002379     0.001526      0.000687      0.000128  \n",
       " 4        -0.000473    -0.000075      0.000114      0.000127  \n",
       " ...            ...          ...           ...           ...  \n",
       " 75727    -0.000550     0.002136      0.003951      0.004681  \n",
       " 75728     0.002190     0.002476      0.002760      0.002634  \n",
       " 75729    -0.003940    -0.000652      0.001958      0.003565  \n",
       " 75730     0.001757     0.003191      0.004266      0.004647  \n",
       " 75731    -0.009176    -0.003504      0.001205      0.004032  \n",
       " \n",
       " [75732 rows x 104 columns],\n",
       " 'GRF_Annotation':       SUBJECT_ID  SESSION_ID CLASS_LABEL CLASS_LABEL_DETAILED  SEX  AGE  \\\n",
       " 0              1       29885          HC                   HC    1   18   \n",
       " 1              1       29886          HC                   HC    1   18   \n",
       " 2              1       29888          HC                   HC    1   18   \n",
       " 3              2   888812549          HC                   HC    1   51   \n",
       " 4              2   888812550          HC                   HC    1   51   \n",
       " ...          ...         ...         ...                  ...  ...  ...   \n",
       " 8966        2392       15483           A                  A_L    1   46   \n",
       " 8967        2392       15484           A                  A_L    1   46   \n",
       " 8968        2392       15541           A                  A_L    1   46   \n",
       " 8969        2392       15603           A                  A_L    1   46   \n",
       " 8970        2392       15666           A                  A_L    1   46   \n",
       " \n",
       "       HEIGHT  BODY_WEIGHT  BODY_MASS  SHOE_SIZE  AFFECTED_SIDE  \\\n",
       " 0      173.0        516.1       52.6       42.0            NaN   \n",
       " 1      173.0        516.2       52.6       42.0            NaN   \n",
       " 2      173.0        516.1       52.6       42.0            NaN   \n",
       " 3      182.0        752.1       76.7       44.0            NaN   \n",
       " 4      182.0        752.4       76.7       44.0            NaN   \n",
       " ...      ...          ...        ...        ...            ...   \n",
       " 8966     NaN       1031.9      105.2        NaN            0.0   \n",
       " 8967     NaN       1031.6      105.2        NaN            0.0   \n",
       " 8968     NaN       1045.5      106.6        NaN            0.0   \n",
       " 8969     NaN       1043.7      106.4        NaN            0.0   \n",
       " 8970     NaN       1051.5      107.2        NaN            0.0   \n",
       " \n",
       "       SHOD_CONDITION  ORTHOPEDIC_INSOLE  SPEED  READMISSION  SESSION_TYPE  \\\n",
       " 0                  1                0.0      2            0             1   \n",
       " 1                  1                0.0      1            0             1   \n",
       " 2                  1                0.0      3            0             1   \n",
       " 3                  1                0.0      1            0             1   \n",
       " 4                  1                0.0      3            0             1   \n",
       " ...              ...                ...    ...          ...           ...   \n",
       " 8966               1                1.0      2            0             2   \n",
       " 8967               1                0.0      2            0             2   \n",
       " 8968               1                1.0      2            0             2   \n",
       " 8969               1                1.0      2            0             2   \n",
       " 8970               1                1.0      2            0             2   \n",
       " \n",
       "      SESSION_DATE  TRAIN  TRAIN_BALANCED  TEST  \n",
       " 0      29.01.2015      0               0     1  \n",
       " 1      29.01.2015      0               0     1  \n",
       " 2      29.01.2015      0               0     1  \n",
       " 3      03.08.2017      1               0     0  \n",
       " 4      03.08.2017      1               0     0  \n",
       " ...           ...    ...             ...   ...  \n",
       " 8966   18.01.2011      0               0     1  \n",
       " 8967   18.01.2011      0               0     1  \n",
       " 8968   25.01.2011      0               0     1  \n",
       " 8969   02.02.2011      0               0     1  \n",
       " 8970   08.02.2011      0               0     1  \n",
       " \n",
       " [8971 rows x 20 columns]}"
      ]
     },
     "execution_count": 119,
     "metadata": {},
     "output_type": "execute_result"
    }
   ],
   "source": [
    "df_dict"
   ]
  },
  {
   "cell_type": "code",
   "execution_count": 120,
   "metadata": {
    "id": "8wZIZOIeK1Yq"
   },
   "outputs": [],
   "source": [
    "def getTitle(label):\n",
    "    if label==\"HC\":\n",
    "        return \"Healthy Controls\"\n",
    "    elif label==\"K\":\n",
    "        return \"Knee impairment \"\n",
    "    elif label==\"A\":\n",
    "        return \"Ankle impairment\"\n",
    "    elif label==\"H\":\n",
    "        return \"Hip impairment\"\n",
    "    else:\n",
    "        return \"Calcaneus impairment\""
   ]
  },
  {
   "cell_type": "code",
   "execution_count": 121,
   "metadata": {
    "id": "1ioT-XlRLkis"
   },
   "outputs": [],
   "source": [
    "# df_dict['GRF_F_V_PRO_left']\n",
    "# df_dict['GRF_Annotation']\n",
    "# subject_id = df_dict['GRF_Annotation'][\"SUBJECT_ID\"].unique()\n",
    "# subject_id = pd.DataFrame({\"SUBJECT_ID\": subject_id})\n",
    "# grf = subject_id.merge(grf, on=\"SUBJECT_ID\", how = \"inner\")"
   ]
  },
  {
   "cell_type": "code",
   "execution_count": 122,
   "metadata": {
    "id": "7fTkbh6CkdME"
   },
   "outputs": [],
   "source": [
    "#df_dict['GRF_F_V_PRO_left']['SUBJECT_ID'].loc['']"
   ]
  },
  {
   "cell_type": "code",
   "execution_count": 123,
   "metadata": {
    "id": "ltWiMIj7LCzc"
   },
   "outputs": [],
   "source": [
    "def get_Inputs(grf, meta, label):\n",
    "  subject_id = meta.loc[meta[\"CLASS_LABEL\"]==label][\"SUBJECT_ID\"].unique()\n",
    "  subject_id = pd.DataFrame({\"SUBJECT_ID\": subject_id})\n",
    "  grf = subject_id.merge(grf, on=\"SUBJECT_ID\", how = \"inner\")\n",
    "  #grf = grf.drop_duplicates(['SUBJECT_ID'], keep = 'first')\n",
    "  #grf.drop(grf.columns[:3], axis = 1)\n",
    "  grf = grf.iloc[:,3:].values\n",
    "  res = np.array(grf)\n",
    "  return res"
   ]
  },
  {
   "cell_type": "code",
   "execution_count": 124,
   "metadata": {
    "colab": {
     "base_uri": "https://localhost:8080/"
    },
    "id": "S4DqcgVuLEnL",
    "outputId": "f68adb1d-d97d-4e9a-f2a2-379f8ac7e45a"
   },
   "outputs": [
    {
     "name": "stdout",
     "output_type": "stream",
     "text": [
      "(7755, 101)\n",
      "<class 'numpy.ndarray'>\n"
     ]
    }
   ],
   "source": [
    "X = None\n",
    "for key in df_dict:\n",
    "  if key== 'GRF_Annotation': \n",
    "    continue\n",
    "  temp = get_Inputs(df_dict[key], df_dict['GRF_Annotation'], 'HC')#shape (7755, 104)\n",
    "  if X is None:\n",
    "    X = temp\n",
    "  else:\n",
    "    X = np.append(X, temp, axis=0)\n",
    "print(X.shape)\n",
    "#X = get_Inputs(df_dict['GRF_F_V_PRO_left'], df_dict['GRF_Annotation'], 'HC')#shape (7755, 104)\n",
    "#X = X[0,:].reshape(1, 104)\n",
    "#X.shape\n",
    "print(type(X))"
   ]
  },
  {
   "cell_type": "code",
   "execution_count": 125,
   "metadata": {
    "colab": {
     "base_uri": "https://localhost:8080/"
    },
    "id": "xyykcP_JZthn",
    "outputId": "b7b009e1-24da-495d-944c-c483a75e0b1a"
   },
   "outputs": [
    {
     "name": "stdout",
     "output_type": "stream",
     "text": [
      "X [[ 0.00092281 -0.001528   -0.00633684 ... -0.01009653 -0.00681242\n",
      "  -0.00370574]\n",
      " [-0.00498914 -0.01181551 -0.02191771 ... -0.00810007 -0.0053698\n",
      "  -0.00270015]\n",
      " [ 0.0008356  -0.00042061 -0.0039916  ... -0.00833721 -0.00522617\n",
      "  -0.00252099]\n",
      " ...\n",
      " [ 0.00073336  0.0004424  -0.00084659 ...  0.00101174  0.00205632\n",
      "   0.00245104]\n",
      " [-0.00129361 -0.00265374 -0.00505646 ...  0.0060628   0.00568711\n",
      "   0.00473138]\n",
      " [-0.00283512 -0.00361729 -0.00469243 ...  0.00607024  0.0059795\n",
      "   0.00528578]]\n",
      "X_new [[0.65345432 0.68273052 0.69326614 ... 0.28120698 0.26552636 0.29027086]\n",
      " [0.45598893 0.5142267  0.53558708 ... 0.32019063 0.29999399 0.32061529]\n",
      " [0.65054133 0.70086885 0.71700007 ... 0.31556022 0.30342546 0.32602167]\n",
      " ...\n",
      " [0.64712633 0.71500446 0.74882771 ... 0.49811079 0.47742096 0.47605734]\n",
      " [0.57942334 0.66429149 0.70622363 ... 0.5967396  0.56416898 0.54486896]\n",
      " [0.52793555 0.64850898 0.70990767 ... 0.59688489 0.57115468 0.56159836]]\n"
     ]
    }
   ],
   "source": [
    "scaler = MinMaxScaler(feature_range=(0, 1))\n",
    "print('X', X)\n",
    "X = scaler.fit_transform(X)\n",
    "print('X_new', X)"
   ]
  },
  {
   "cell_type": "code",
   "execution_count": 126,
   "metadata": {
    "colab": {
     "base_uri": "https://localhost:8080/"
    },
    "id": "zfg-0CqIU0uS",
    "outputId": "644619db-44e0-4609-b1e5-a5ebeae72fae"
   },
   "outputs": [
    {
     "name": "stdout",
     "output_type": "stream",
     "text": [
      "(4653, 101)\n",
      "(2326, 101)\n",
      "(776, 101)\n"
     ]
    }
   ],
   "source": [
    "l1, l2 = 0.6, 0.9\n",
    "X_train = X[0:(int)(X.shape[0]*l1), :]\n",
    "X_val = X[(int)(X.shape[0]*l1):(int)(X.shape[0]*l2), :]\n",
    "X_test = X[(int)(X.shape[0]*l2):, :]\n",
    "\n",
    "print(X_train.shape)\n",
    "print(X_val.shape)\n",
    "print(X_test.shape)"
   ]
  },
  {
   "cell_type": "code",
   "execution_count": 127,
   "metadata": {
    "id": "LHOxHi5xLHnt"
   },
   "outputs": [],
   "source": [
    "#X = get_Inputs(df_dict['GRF_F_V_PRO_left'], df_dict['GRF_Annotation'], 'A')"
   ]
  },
  {
   "cell_type": "code",
   "execution_count": 128,
   "metadata": {
    "id": "usXI576ILJgD"
   },
   "outputs": [],
   "source": [
    "# def get_data_series(X, serie_size):\n",
    "#     first_step = X.shape[1] - serie_size - 1\n",
    "#     last_step = X.shape[1]\n",
    "#     data_series = []\n",
    "\n",
    "#     for row in X:\n",
    "#         for step1 in range((last_step - (first_step + serie_size)) + 1):\n",
    "#             serie = []\n",
    "#             for step2 in range(serie_size):\n",
    "#                 serie.append(row[step1 + first_step + step2])\n",
    "#             data_series.append(serie)\n",
    "#     return np.squeeze(np.array(data_series)), np.squeeze(np.zeros(np.array(data_series).shape))\n",
    "def get_data_series(X, serie_size):\n",
    "    #first_step = 0 #X.shape[1] - serie_size - 1\n",
    "    print(X.shape)\n",
    "    last_step = X.shape[1]\n",
    "    data_series = []\n",
    "    for row in X:\n",
    "        for step1 in range(last_step - serie_size):\n",
    "            serie = row[step1 : step1 + serie_size]\n",
    "            # for step2 in range(serie_size):\n",
    "            #     serie.append(row[step1 + step2])\n",
    "            data_series.append(serie)\n",
    "    res = np.array(np.squeeze(np.array(data_series)))\n",
    "    print(res.shape)\n",
    "    return res"
   ]
  },
  {
   "cell_type": "code",
   "execution_count": 129,
   "metadata": {
    "colab": {
     "base_uri": "https://localhost:8080/"
    },
    "id": "jsoLO-eHLK_j",
    "outputId": "4d23195a-71f0-42d4-ccb0-504f81b324c2"
   },
   "outputs": [
    {
     "name": "stdout",
     "output_type": "stream",
     "text": [
      "(4653, 101)\n",
      "(395505, 16)\n",
      "(2326, 101)\n",
      "(197710, 16)\n",
      "(776, 101)\n",
      "(65960, 16)\n",
      "X_train.shape  (395505, 16, 1)\n",
      "X_val.shape  (197710, 16, 1)\n",
      "X_test.shape  (65960, 16, 1)\n"
     ]
    }
   ],
   "source": [
    "# X_new = get_data_series(X, 10)\n",
    "# X_new = X_new.reshape(X_new.shape[0], X_new.shape[1], 1)\n",
    "# X_new.shape\n",
    "X_train, X_val, X_test = get_data_series(X_train, 16),get_data_series(X_val, 16) ,get_data_series(X_test, 16)\n",
    "\n",
    "X_train, X_val, X_test = X_train.reshape(X_train.shape[0], X_train.shape[1], 1),X_val.reshape(X_val.shape[0], X_val.shape[1], 1), X_test.reshape(X_test.shape[0], X_test.shape[1], 1)\n",
    "print('X_train.shape ',X_train.shape)\n",
    "print('X_val.shape ',X_val.shape)\n",
    "print('X_test.shape ',X_test.shape)"
   ]
  },
  {
   "cell_type": "code",
   "execution_count": 130,
   "metadata": {
    "id": "akaYzUllLO0J"
   },
   "outputs": [],
   "source": [
    "serie_size  =  X_train.shape[1] # equal to the lookback\n",
    "n_features =  X_train.shape[2] # 1\n",
    "\n",
    "epochs = 150\n",
    "batch = 128\n",
    "lr = 0.001"
   ]
  },
  {
   "cell_type": "code",
   "execution_count": 55,
   "metadata": {
    "colab": {
     "base_uri": "https://localhost:8080/"
    },
    "id": "FZSeYE9VVBqL",
    "outputId": "3517f9dc-e453-4708-a440-d2c0aa56f63e"
   },
   "outputs": [
    {
     "name": "stdout",
     "output_type": "stream",
     "text": [
      "WARNING:tensorflow:Layer lstm_10 will not use cuDNN kernel since it doesn't meet the cuDNN kernel criteria. It will use generic GPU kernel as fallback when running on GPU\n",
      "WARNING:tensorflow:Layer lstm_11 will not use cuDNN kernel since it doesn't meet the cuDNN kernel criteria. It will use generic GPU kernel as fallback when running on GPU\n",
      "WARNING:tensorflow:Layer lstm_12 will not use cuDNN kernel since it doesn't meet the cuDNN kernel criteria. It will use generic GPU kernel as fallback when running on GPU\n",
      "WARNING:tensorflow:Layer lstm_13 will not use cuDNN kernel since it doesn't meet the cuDNN kernel criteria. It will use generic GPU kernel as fallback when running on GPU\n",
      "WARNING:tensorflow:Layer lstm_14 will not use cuDNN kernel since it doesn't meet the cuDNN kernel criteria. It will use generic GPU kernel as fallback when running on GPU\n",
      "Model: \"sequential_2\"\n",
      "_________________________________________________________________\n",
      "Layer (type)                 Output Shape              Param #   \n",
      "=================================================================\n",
      "lstm_10 (LSTM)               (None, 16, 16)            1152      \n",
      "_________________________________________________________________\n",
      "lstm_11 (LSTM)               (None, 16, 8)             800       \n",
      "_________________________________________________________________\n",
      "lstm_12 (LSTM)               (None, 4)                 208       \n",
      "_________________________________________________________________\n",
      "repeat_vector_2 (RepeatVecto (None, 16, 4)             0         \n",
      "_________________________________________________________________\n",
      "lstm_13 (LSTM)               (None, 16, 8)             416       \n",
      "_________________________________________________________________\n",
      "lstm_14 (LSTM)               (None, 16, 16)            1600      \n",
      "_________________________________________________________________\n",
      "time_distributed_2 (TimeDist (None, 16, 1)             17        \n",
      "=================================================================\n",
      "Total params: 4,193\n",
      "Trainable params: 4,193\n",
      "Non-trainable params: 0\n",
      "_________________________________________________________________\n"
     ]
    }
   ],
   "source": [
    "#using LSTM-AE\n",
    "lstm_autoencoder = Sequential()\n",
    "# Encoder\n",
    "lstm_autoencoder.add(LSTM(serie_size, activation='relu', input_shape=(serie_size, n_features), return_sequences=True))\n",
    "lstm_autoencoder.add(LSTM(8, activation='relu', return_sequences=True))\n",
    "#lstm_autoencoder.add(LSTM(8, activation='relu'))\n",
    "lstm_autoencoder.add(LSTM(4, activation='relu'))\n",
    "lstm_autoencoder.add(RepeatVector(serie_size))\n",
    "# lstm_autoencoder.add(LSTM(32, activation='relu', return_sequences=True))\n",
    "# lstm_autoencoder.add(LSTM(16, activation='relu', return_sequences=False))\n",
    "# lstm_autoencoder.add(RepeatVector(serie_size))\n",
    "# # Decoder\n",
    "# lstm_autoencoder.add(LSTM(16, activation='relu', return_sequences=True))\n",
    "# lstm_autoencoder.add(LSTM(32, activation='relu', return_sequences=True))\n",
    "lstm_autoencoder.add(LSTM(8, activation='relu', return_sequences=True))\n",
    "#lstm_autoencoder.add(LSTM(16, activation='relu', return_sequences=True))\n",
    "lstm_autoencoder.add(LSTM(serie_size, activation='relu', return_sequences=True))\n",
    "lstm_autoencoder.add(TimeDistributed(Dense(n_features)))\n",
    "\n",
    "lstm_autoencoder.summary()"
   ]
  },
  {
   "cell_type": "code",
   "execution_count": 112,
   "metadata": {},
   "outputs": [],
   "source": [
    "hidden_size = 32\n",
    "code_size = 4"
   ]
  },
  {
   "cell_type": "code",
   "execution_count": 131,
   "metadata": {},
   "outputs": [
    {
     "name": "stdout",
     "output_type": "stream",
     "text": [
      "Model: \"sequential_9\"\n",
      "_________________________________________________________________\n",
      "Layer (type)                 Output Shape              Param #   \n",
      "=================================================================\n",
      "dense_20 (Dense)             (None, 16, 32)            64        \n",
      "_________________________________________________________________\n",
      "dense_21 (Dense)             (None, 16, 4)             132       \n",
      "_________________________________________________________________\n",
      "dense_22 (Dense)             (None, 16, 32)            160       \n",
      "_________________________________________________________________\n",
      "dense_23 (Dense)             (None, 16, 16)            528       \n",
      "=================================================================\n",
      "Total params: 884\n",
      "Trainable params: 884\n",
      "Non-trainable params: 0\n",
      "_________________________________________________________________\n"
     ]
    }
   ],
   "source": [
    "from tensorflow.keras.layers import Input, Dense\n",
    "from keras import regularizers\n",
    "\n",
    "dnn_autoencoder = Sequential()\n",
    "dnn_autoencoder.add(Input(shape=(serie_size,1)))\n",
    "dnn_autoencoder.add(Dense(hidden_size, activation='relu'))\n",
    "dnn_autoencoder.add(Dense(code_size, activation='relu',activity_regularizer=regularizers.l1(10e-6)))\n",
    "dnn_autoencoder.add(Dense(hidden_size, activation='relu'))\n",
    "dnn_autoencoder.add(Dense(serie_size, activation='sigmoid'))\n",
    "dnn_autoencoder.summary()"
   ]
  },
  {
   "cell_type": "code",
   "execution_count": 132,
   "metadata": {
    "colab": {
     "base_uri": "https://localhost:8080/"
    },
    "id": "YXQIQC4MVEMA",
    "outputId": "d2bb7019-5473-4676-caaa-9844da64bbe8"
   },
   "outputs": [
    {
     "name": "stdout",
     "output_type": "stream",
     "text": [
      "Epoch 1/150\n",
      "WARNING:tensorflow:AutoGraph could not transform <function Model.make_train_function.<locals>.train_function at 0x0000027932C580D0> and will run it as-is.\n",
      "Please report this to the TensorFlow team. When filing the bug, set the verbosity to 10 (on Linux, `export AUTOGRAPH_VERBOSITY=10`) and attach the full output.\n",
      "Cause: Bad argument number for Name: 4, expecting 3\n",
      "To silence this warning, decorate the function with @tf.autograph.experimental.do_not_convert\n",
      "WARNING: AutoGraph could not transform <function Model.make_train_function.<locals>.train_function at 0x0000027932C580D0> and will run it as-is.\n",
      "Please report this to the TensorFlow team. When filing the bug, set the verbosity to 10 (on Linux, `export AUTOGRAPH_VERBOSITY=10`) and attach the full output.\n",
      "Cause: Bad argument number for Name: 4, expecting 3\n",
      "To silence this warning, decorate the function with @tf.autograph.experimental.do_not_convert\n",
      "WARNING:tensorflow:AutoGraph could not transform <function Model.make_test_function.<locals>.test_function at 0x00000278B9C7B510> and will run it as-is.\n",
      "Please report this to the TensorFlow team. When filing the bug, set the verbosity to 10 (on Linux, `export AUTOGRAPH_VERBOSITY=10`) and attach the full output.\n",
      "Cause: Bad argument number for Name: 4, expecting 3\n",
      "To silence this warning, decorate the function with @tf.autograph.experimental.do_not_convert\n",
      "WARNING: AutoGraph could not transform <function Model.make_test_function.<locals>.test_function at 0x00000278B9C7B510> and will run it as-is.\n",
      "Please report this to the TensorFlow team. When filing the bug, set the verbosity to 10 (on Linux, `export AUTOGRAPH_VERBOSITY=10`) and attach the full output.\n",
      "Cause: Bad argument number for Name: 4, expecting 3\n",
      "To silence this warning, decorate the function with @tf.autograph.experimental.do_not_convert\n",
      "3090/3090 - 37s - loss: 9.1207e-04 - val_loss: 3.6141e-05\n",
      "Epoch 2/150\n",
      "3090/3090 - 41s - loss: 2.3056e-05 - val_loss: 1.7288e-05\n",
      "Epoch 3/150\n",
      "3090/3090 - 43s - loss: 1.3976e-05 - val_loss: 1.2039e-05\n",
      "Epoch 4/150\n",
      "3090/3090 - 42s - loss: 1.0834e-05 - val_loss: 9.8595e-06\n",
      "Epoch 5/150\n",
      "3090/3090 - 43s - loss: 9.4021e-06 - val_loss: 9.2800e-06\n",
      "Epoch 6/150\n",
      "3090/3090 - 43s - loss: 8.6496e-06 - val_loss: 8.8459e-06\n",
      "Epoch 7/150\n",
      "3090/3090 - 43s - loss: 8.1456e-06 - val_loss: 7.7660e-06\n",
      "Epoch 8/150\n",
      "3090/3090 - 44s - loss: 7.8247e-06 - val_loss: 7.2087e-06\n",
      "Epoch 9/150\n",
      "3090/3090 - 45s - loss: 7.5830e-06 - val_loss: 6.9654e-06\n",
      "Epoch 10/150\n",
      "3090/3090 - 45s - loss: 7.3558e-06 - val_loss: 1.0083e-05\n",
      "Epoch 11/150\n",
      "3090/3090 - 43s - loss: 7.2097e-06 - val_loss: 6.3876e-06\n",
      "Epoch 12/150\n",
      "3090/3090 - 42s - loss: 7.1146e-06 - val_loss: 6.2760e-06\n",
      "Epoch 13/150\n",
      "3090/3090 - 42s - loss: 7.0282e-06 - val_loss: 6.3425e-06\n",
      "Epoch 14/150\n",
      "3090/3090 - 43s - loss: 6.9212e-06 - val_loss: 6.2037e-06\n",
      "Epoch 15/150\n",
      "3090/3090 - 44s - loss: 6.8228e-06 - val_loss: 6.7862e-06\n",
      "Epoch 16/150\n",
      "3090/3090 - 45s - loss: 6.7868e-06 - val_loss: 5.8135e-06\n",
      "Epoch 17/150\n",
      "3090/3090 - 45s - loss: 6.7429e-06 - val_loss: 7.4387e-06\n",
      "Epoch 18/150\n",
      "3090/3090 - 44s - loss: 6.6277e-06 - val_loss: 6.1697e-06\n",
      "Epoch 19/150\n",
      "3090/3090 - 45s - loss: 6.6055e-06 - val_loss: 7.1408e-06\n",
      "Epoch 20/150\n",
      "3090/3090 - 45s - loss: 6.5884e-06 - val_loss: 5.5909e-06\n",
      "Epoch 21/150\n",
      "3090/3090 - 45s - loss: 6.5351e-06 - val_loss: 6.0453e-06\n",
      "Epoch 22/150\n",
      "3090/3090 - 44s - loss: 6.4996e-06 - val_loss: 6.0699e-06\n",
      "Epoch 23/150\n",
      "3090/3090 - 44s - loss: 6.4556e-06 - val_loss: 6.8057e-06\n",
      "Epoch 24/150\n",
      "3090/3090 - 43s - loss: 6.4310e-06 - val_loss: 5.3511e-06\n",
      "Epoch 25/150\n",
      "3090/3090 - 44s - loss: 6.4009e-06 - val_loss: 1.1219e-05\n",
      "Epoch 26/150\n",
      "3090/3090 - 43s - loss: 6.3516e-06 - val_loss: 6.0113e-06\n",
      "Epoch 27/150\n",
      "3090/3090 - 44s - loss: 6.3561e-06 - val_loss: 5.9043e-06\n",
      "Epoch 28/150\n",
      "3090/3090 - 44s - loss: 6.3043e-06 - val_loss: 5.2021e-06\n",
      "Epoch 29/150\n",
      "3090/3090 - 44s - loss: 6.2653e-06 - val_loss: 5.1565e-06\n",
      "Epoch 30/150\n",
      "3090/3090 - 44s - loss: 6.2252e-06 - val_loss: 8.2537e-06\n",
      "Epoch 31/150\n",
      "3090/3090 - 44s - loss: 6.2755e-06 - val_loss: 5.7294e-06\n",
      "Epoch 32/150\n",
      "3090/3090 - 44s - loss: 6.1534e-06 - val_loss: 5.1671e-06\n",
      "Epoch 33/150\n",
      "3090/3090 - 43s - loss: 6.1462e-06 - val_loss: 5.0805e-06\n",
      "Epoch 34/150\n",
      "3090/3090 - 44s - loss: 6.1468e-06 - val_loss: 7.6843e-06\n",
      "Epoch 35/150\n",
      "3090/3090 - 43s - loss: 6.0826e-06 - val_loss: 5.1529e-06\n",
      "Epoch 36/150\n",
      "3090/3090 - 44s - loss: 6.0486e-06 - val_loss: 4.9145e-06\n",
      "Epoch 37/150\n",
      "3090/3090 - 44s - loss: 6.0451e-06 - val_loss: 4.8814e-06\n",
      "Epoch 38/150\n",
      "3090/3090 - 43s - loss: 6.0099e-06 - val_loss: 5.8304e-06\n",
      "Epoch 39/150\n",
      "3090/3090 - 43s - loss: 5.9803e-06 - val_loss: 4.9326e-06\n",
      "Epoch 40/150\n",
      "3090/3090 - 45s - loss: 5.9965e-06 - val_loss: 5.0107e-06\n",
      "Epoch 41/150\n",
      "3090/3090 - 44s - loss: 5.9656e-06 - val_loss: 5.1539e-06\n",
      "Epoch 42/150\n",
      "3090/3090 - 44s - loss: 5.9422e-06 - val_loss: 5.5490e-06\n",
      "Epoch 43/150\n",
      "3090/3090 - 44s - loss: 5.9012e-06 - val_loss: 1.2377e-05\n",
      "Epoch 44/150\n",
      "3090/3090 - 46s - loss: 5.9019e-06 - val_loss: 4.8689e-06\n",
      "Epoch 45/150\n",
      "3090/3090 - 41s - loss: 5.8931e-06 - val_loss: 4.9845e-06\n",
      "Epoch 46/150\n",
      "3090/3090 - 40s - loss: 5.8212e-06 - val_loss: 5.6553e-06\n",
      "Epoch 47/150\n",
      "3090/3090 - 39s - loss: 5.8282e-06 - val_loss: 4.6534e-06\n",
      "Epoch 48/150\n",
      "3090/3090 - 39s - loss: 5.8190e-06 - val_loss: 5.0945e-06\n",
      "Epoch 49/150\n",
      "3090/3090 - 38s - loss: 5.7852e-06 - val_loss: 5.0432e-06\n",
      "Epoch 50/150\n",
      "3090/3090 - 38s - loss: 5.7473e-06 - val_loss: 5.0055e-06\n",
      "Epoch 51/150\n",
      "3090/3090 - 38s - loss: 5.7553e-06 - val_loss: 5.0803e-06\n",
      "Epoch 52/150\n",
      "3090/3090 - 38s - loss: 5.7350e-06 - val_loss: 4.5286e-06\n",
      "Epoch 53/150\n",
      "3090/3090 - 38s - loss: 5.6558e-06 - val_loss: 5.2657e-06\n",
      "Epoch 54/150\n",
      "3090/3090 - 38s - loss: 5.6878e-06 - val_loss: 1.4525e-05\n",
      "Epoch 55/150\n",
      "3090/3090 - 39s - loss: 5.6753e-06 - val_loss: 5.4536e-06\n",
      "Epoch 56/150\n",
      "3090/3090 - 39s - loss: 5.6462e-06 - val_loss: 5.3637e-06\n",
      "Epoch 57/150\n",
      "3090/3090 - 39s - loss: 5.5688e-06 - val_loss: 5.2175e-06\n",
      "Epoch 58/150\n",
      "3090/3090 - 39s - loss: 5.6543e-06 - val_loss: 1.4470e-05\n",
      "Epoch 59/150\n",
      "3090/3090 - 40s - loss: 5.5581e-06 - val_loss: 4.4631e-06\n",
      "Epoch 60/150\n",
      "3090/3090 - 40s - loss: 5.5330e-06 - val_loss: 4.4170e-06\n",
      "Epoch 61/150\n",
      "3090/3090 - 40s - loss: 5.5787e-06 - val_loss: 5.4290e-06\n",
      "Epoch 62/150\n",
      "3090/3090 - 40s - loss: 5.5323e-06 - val_loss: 4.6902e-06\n",
      "Epoch 63/150\n",
      "3090/3090 - 40s - loss: 5.4834e-06 - val_loss: 5.7291e-06\n",
      "Epoch 64/150\n",
      "3090/3090 - 41s - loss: 5.4904e-06 - val_loss: 4.5096e-06\n",
      "Epoch 65/150\n",
      "3090/3090 - 41s - loss: 5.4986e-06 - val_loss: 4.4045e-06\n",
      "Epoch 66/150\n",
      "3090/3090 - 42s - loss: 5.4472e-06 - val_loss: 4.3407e-06\n",
      "Epoch 67/150\n",
      "3090/3090 - 41s - loss: 5.4601e-06 - val_loss: 4.3812e-06\n",
      "Epoch 68/150\n",
      "3090/3090 - 42s - loss: 5.3680e-06 - val_loss: 4.8463e-06\n",
      "Epoch 69/150\n",
      "3090/3090 - 42s - loss: 5.4395e-06 - val_loss: 4.4450e-06\n",
      "Epoch 70/150\n",
      "3090/3090 - 42s - loss: 5.3886e-06 - val_loss: 4.1444e-06\n",
      "Epoch 71/150\n",
      "3090/3090 - 41s - loss: 5.3774e-06 - val_loss: 4.2058e-06\n",
      "Epoch 72/150\n",
      "3090/3090 - 41s - loss: 5.3635e-06 - val_loss: 4.3562e-06\n",
      "Epoch 73/150\n",
      "3090/3090 - 40s - loss: 5.3403e-06 - val_loss: 1.3448e-05\n",
      "Epoch 74/150\n",
      "3090/3090 - 40s - loss: 5.3653e-06 - val_loss: 4.1856e-06\n",
      "Epoch 75/150\n",
      "3090/3090 - 41s - loss: 5.2537e-06 - val_loss: 4.2090e-06\n",
      "Epoch 76/150\n",
      "3090/3090 - 41s - loss: 5.2463e-06 - val_loss: 5.5390e-06\n",
      "Epoch 77/150\n",
      "3090/3090 - 41s - loss: 5.2921e-06 - val_loss: 4.1841e-06\n",
      "Epoch 78/150\n",
      "3090/3090 - 41s - loss: 5.2573e-06 - val_loss: 4.0563e-06\n",
      "Epoch 79/150\n",
      "3090/3090 - 41s - loss: 5.2268e-06 - val_loss: 4.9470e-06\n",
      "Epoch 80/150\n",
      "3090/3090 - 41s - loss: 5.1910e-06 - val_loss: 4.0053e-06\n",
      "Epoch 81/150\n",
      "3090/3090 - 40s - loss: 5.1968e-06 - val_loss: 4.0380e-06\n",
      "Epoch 82/150\n",
      "3090/3090 - 41s - loss: 5.1781e-06 - val_loss: 4.0750e-06\n",
      "Epoch 83/150\n",
      "3090/3090 - 40s - loss: 5.1463e-06 - val_loss: 3.9219e-06\n",
      "Epoch 84/150\n",
      "3090/3090 - 46s - loss: 5.1496e-06 - val_loss: 3.9270e-06\n",
      "Epoch 85/150\n",
      "3090/3090 - 42s - loss: 5.1140e-06 - val_loss: 4.1955e-06\n",
      "Epoch 86/150\n",
      "3090/3090 - 41s - loss: 5.1294e-06 - val_loss: 4.1547e-06\n",
      "Epoch 87/150\n",
      "3090/3090 - 42s - loss: 5.1086e-06 - val_loss: 4.7251e-06\n",
      "Epoch 88/150\n",
      "3090/3090 - 41s - loss: 5.0521e-06 - val_loss: 6.7896e-06\n",
      "Epoch 89/150\n",
      "3090/3090 - 39s - loss: 5.0902e-06 - val_loss: 6.1056e-06\n",
      "Epoch 90/150\n",
      "3090/3090 - 41s - loss: 5.1988e-06 - val_loss: 4.3372e-06\n"
     ]
    },
    {
     "name": "stdout",
     "output_type": "stream",
     "text": [
      "Epoch 91/150\n",
      "3090/3090 - 42s - loss: 4.9199e-06 - val_loss: 3.8121e-06\n",
      "Epoch 92/150\n",
      "3090/3090 - 42s - loss: 5.0381e-06 - val_loss: 1.0386e-05\n",
      "Epoch 93/150\n",
      "3090/3090 - 43s - loss: 5.0456e-06 - val_loss: 3.8975e-06\n",
      "Epoch 94/150\n",
      "3090/3090 - 42s - loss: 5.0217e-06 - val_loss: 4.6135e-06\n",
      "Epoch 95/150\n",
      "3090/3090 - 41s - loss: 5.0028e-06 - val_loss: 3.8799e-06\n",
      "Epoch 96/150\n",
      "3090/3090 - 40s - loss: 4.9504e-06 - val_loss: 3.7824e-06\n",
      "Epoch 97/150\n",
      "3090/3090 - 40s - loss: 5.0312e-06 - val_loss: 3.7552e-06\n",
      "Epoch 98/150\n",
      "3090/3090 - 40s - loss: 4.9612e-06 - val_loss: 3.7724e-06\n",
      "Epoch 99/150\n",
      "3090/3090 - 40s - loss: 4.9217e-06 - val_loss: 3.8618e-06\n",
      "Epoch 100/150\n",
      "3090/3090 - 40s - loss: 5.0232e-06 - val_loss: 4.3045e-06\n",
      "Epoch 101/150\n",
      "3090/3090 - 40s - loss: 4.8473e-06 - val_loss: 3.8626e-06\n",
      "Epoch 102/150\n",
      "3090/3090 - 40s - loss: 4.9403e-06 - val_loss: 3.7952e-06\n",
      "Epoch 103/150\n",
      "3090/3090 - 39s - loss: 4.8824e-06 - val_loss: 3.7943e-06\n",
      "Epoch 104/150\n",
      "3090/3090 - 40s - loss: 4.9330e-06 - val_loss: 4.5552e-06\n",
      "Epoch 105/150\n",
      "3090/3090 - 39s - loss: 4.8036e-06 - val_loss: 3.7317e-06\n",
      "Epoch 106/150\n",
      "3090/3090 - 39s - loss: 4.8495e-06 - val_loss: 3.6040e-06\n",
      "Epoch 107/150\n",
      "3090/3090 - 39s - loss: 4.8324e-06 - val_loss: 3.8294e-06\n",
      "Epoch 108/150\n",
      "3090/3090 - 40s - loss: 4.8533e-06 - val_loss: 3.8020e-06\n",
      "Epoch 109/150\n",
      "3090/3090 - 42s - loss: 4.8062e-06 - val_loss: 4.3003e-06\n",
      "Epoch 110/150\n",
      "3090/3090 - 40s - loss: 4.8020e-06 - val_loss: 3.5627e-06\n",
      "Epoch 111/150\n",
      "3090/3090 - 39s - loss: 4.8166e-06 - val_loss: 3.5609e-06\n",
      "Epoch 112/150\n",
      "3090/3090 - 40s - loss: 4.7656e-06 - val_loss: 3.7188e-06\n",
      "Epoch 113/150\n",
      "3090/3090 - 39s - loss: 4.7928e-06 - val_loss: 5.3616e-06\n",
      "Epoch 114/150\n",
      "3090/3090 - 40s - loss: 4.7071e-06 - val_loss: 4.4723e-06\n",
      "Epoch 115/150\n",
      "3090/3090 - 41s - loss: 4.7344e-06 - val_loss: 3.6623e-06\n",
      "Epoch 116/150\n",
      "3090/3090 - 40s - loss: 4.6949e-06 - val_loss: 7.1377e-06\n",
      "Epoch 117/150\n",
      "3090/3090 - 40s - loss: 4.7276e-06 - val_loss: 3.4753e-06\n",
      "Epoch 118/150\n",
      "3090/3090 - 40s - loss: 4.7103e-06 - val_loss: 3.4459e-06\n",
      "Epoch 119/150\n",
      "3090/3090 - 40s - loss: 4.6509e-06 - val_loss: 2.9295e-05\n",
      "Epoch 120/150\n",
      "3090/3090 - 39s - loss: 4.7031e-06 - val_loss: 4.3331e-06\n",
      "Epoch 121/150\n",
      "3090/3090 - 38s - loss: 4.6153e-06 - val_loss: 3.4660e-06\n",
      "Epoch 122/150\n",
      "3090/3090 - 38s - loss: 4.6255e-06 - val_loss: 3.4383e-06\n",
      "Epoch 123/150\n",
      "3090/3090 - 38s - loss: 4.5843e-06 - val_loss: 3.5795e-06\n",
      "Epoch 124/150\n",
      "3090/3090 - 39s - loss: 4.6663e-06 - val_loss: 3.4877e-06\n",
      "Epoch 125/150\n",
      "3090/3090 - 39s - loss: 4.5263e-06 - val_loss: 3.9483e-06\n",
      "Epoch 126/150\n",
      "3090/3090 - 39s - loss: 4.6096e-06 - val_loss: 3.4283e-06\n",
      "Epoch 127/150\n",
      "3090/3090 - 39s - loss: 4.5550e-06 - val_loss: 3.6711e-06\n",
      "Epoch 128/150\n",
      "3090/3090 - 38s - loss: 4.5052e-06 - val_loss: 3.3524e-06\n",
      "Epoch 129/150\n",
      "3090/3090 - 38s - loss: 4.5475e-06 - val_loss: 3.3236e-06\n",
      "Epoch 130/150\n",
      "3090/3090 - 39s - loss: 4.5349e-06 - val_loss: 3.3694e-06\n",
      "Epoch 131/150\n",
      "3090/3090 - 40s - loss: 4.4094e-06 - val_loss: 3.6000e-06\n",
      "Epoch 132/150\n",
      "3090/3090 - 41s - loss: 4.4688e-06 - val_loss: 4.1432e-06\n",
      "Epoch 133/150\n",
      "3090/3090 - 41s - loss: 4.5278e-06 - val_loss: 3.3493e-06\n",
      "Epoch 134/150\n",
      "3090/3090 - 40s - loss: 4.4582e-06 - val_loss: 9.5501e-06\n",
      "Epoch 135/150\n",
      "3090/3090 - 38s - loss: 4.4365e-06 - val_loss: 3.2647e-06\n",
      "Epoch 136/150\n",
      "3090/3090 - 37s - loss: 4.4493e-06 - val_loss: 3.7506e-06\n",
      "Epoch 137/150\n",
      "3090/3090 - 38s - loss: 4.4011e-06 - val_loss: 3.3086e-06\n",
      "Epoch 138/150\n",
      "3090/3090 - 37s - loss: 4.3951e-06 - val_loss: 3.2153e-06\n",
      "Epoch 139/150\n",
      "3090/3090 - 37s - loss: 4.4613e-06 - val_loss: 3.2143e-06\n",
      "Epoch 140/150\n",
      "3090/3090 - 37s - loss: 4.3848e-06 - val_loss: 3.2287e-06\n",
      "Epoch 141/150\n",
      "3090/3090 - 40s - loss: 4.3050e-06 - val_loss: 3.1922e-06\n",
      "Epoch 142/150\n",
      "3090/3090 - 40s - loss: 4.3163e-06 - val_loss: 4.1161e-06\n",
      "Epoch 143/150\n",
      "3090/3090 - 39s - loss: 4.3897e-06 - val_loss: 3.2613e-06\n",
      "Epoch 144/150\n",
      "3090/3090 - 40s - loss: 4.2559e-06 - val_loss: 3.1203e-06\n",
      "Epoch 145/150\n",
      "3090/3090 - 41s - loss: 4.2757e-06 - val_loss: 6.7388e-06\n",
      "Epoch 146/150\n",
      "3090/3090 - 40s - loss: 4.2922e-06 - val_loss: 3.4734e-06\n",
      "Epoch 147/150\n",
      "3090/3090 - 40s - loss: 4.3983e-06 - val_loss: 4.1722e-06\n",
      "Epoch 148/150\n",
      "3090/3090 - 39s - loss: 4.1487e-06 - val_loss: 3.0917e-06\n",
      "Epoch 149/150\n",
      "3090/3090 - 39s - loss: 4.2853e-06 - val_loss: 3.0706e-06\n",
      "Epoch 150/150\n",
      "3090/3090 - 39s - loss: 4.2153e-06 - val_loss: 3.2405e-06\n"
     ]
    }
   ],
   "source": [
    "adam = optimizers.Adam(lr)\n",
    "dnn_autoencoder.compile(loss='mse', optimizer=adam)\n",
    "\n",
    "cp = ModelCheckpoint(filepath=\"lstm_autoencoder_classifier_n.h5\",\n",
    "                               save_best_only=True,\n",
    "                               verbose=0)\n",
    "\n",
    "tb = TensorBoard(log_dir='./logs',\n",
    "                histogram_freq=0,\n",
    "                write_graph=True,\n",
    "                write_images=True)\n",
    "\n",
    "dnn_autoencoder_history = dnn_autoencoder.fit(X_train, X_train, \n",
    "                                                epochs=epochs, \n",
    "                                                batch_size=batch,\n",
    "                                                validation_data=(X_val, X_val),\n",
    "                                                verbose=2).history"
   ]
  },
  {
   "cell_type": "code",
   "execution_count": 134,
   "metadata": {
    "id": "3SeaqhQJAQ8R"
   },
   "outputs": [],
   "source": [
    "dnn_autoencoder.save('auto_230421_right_ML.h5')"
   ]
  },
  {
   "cell_type": "code",
   "execution_count": 40,
   "metadata": {},
   "outputs": [],
   "source": [
    "import matplotlib\n",
    "\n",
    "SMALL_SIZE = 20\n",
    "MEDIUM_SIZE = 25\n",
    "BIGGER_SIZE = 30\n",
    "#matplotlib.rc('font', size=SMALL_SIZE)\n",
    "matplotlib.rc('axes', titlesize=BIGGER_SIZE)\n",
    "matplotlib.rc('axes', labelsize=BIGGER_SIZE)\n",
    "matplotlib.rc('xtick', labelsize=SMALL_SIZE)    # fontsize of the tick labels\n",
    "matplotlib.rc('ytick', labelsize=SMALL_SIZE)    # fontsize of the tick labels\n",
    "matplotlib.rc('legend', fontsize=SMALL_SIZE)    # legend fontsize\n",
    "matplotlib.rc('figure', titlesize=BIGGER_SIZE) "
   ]
  },
  {
   "cell_type": "code",
   "execution_count": 133,
   "metadata": {
    "id": "MtumDOffVH7u"
   },
   "outputs": [
    {
     "data": {
      "image/png": "[encoded data removed]",
      "text/plain": [
       "<Figure size 720x720 with 1 Axes>"
      ]
     },
     "metadata": {
      "needs_background": "light"
     },
     "output_type": "display_data"
    }
   ],
   "source": [
    "start = 1\n",
    "plt.figure(figsize= (10,10))\n",
    "plt.ticklabel_format(style='sci', axis='y', scilimits=(0,0))\n",
    "loss_train = dnn_autoencoder_history['loss'][start:]\n",
    "plt.plot(np.arange(start, len(dnn_autoencoder_history['loss'])), loss_train, linewidth=2, label='Train')\n",
    "loss_valid = dnn_autoencoder_history['val_loss'][start:]\n",
    "plt.plot(np.arange(start, len(dnn_autoencoder_history['loss'])), loss_valid, linewidth=2, label='Valid')\n",
    "plt.legend(loc='upper right')\n",
    "#plt.title('Model loss')\n",
    "plt.ylabel('Loss')\n",
    "plt.xlabel('Epoch')\n",
    "plt.savefig(\"loss_plot_right_ml_ae.png\")\n",
    "plt.show()"
   ]
  },
  {
   "cell_type": "code",
   "execution_count": null,
   "metadata": {},
   "outputs": [],
   "source": [
    "ae_loss_left_V = 1.4808e-05\n",
    "ae_loss_left_AP = \n",
    "ae_loss_left_ML = 4.2494e-06\n",
    "ae_loss_right_V = 1.1084e-05\n",
    "ae_loss_right_AP = 4.1992e-06\n",
    "ae_loss_right_ML = 3.2405e-06"
   ]
  },
  {
   "cell_type": "code",
   "execution_count": null,
   "metadata": {
    "id": "VQWWnQjwVLLe"
   },
   "outputs": [],
   "source": [
    "def flatten(X):\n",
    "    '''\n",
    "    Flatten a 3D array.\n",
    "    '''\n",
    "    flattened_X = np.empty((X.shape[0], X.shape[2]))  # sample x features array.\n",
    "    for i in range(X.shape[0]):\n",
    "        flattened_X[i] = X[i, (X.shape[1]-1), :]\n",
    "    return(flattened_X)"
   ]
  },
  {
   "cell_type": "code",
   "execution_count": null,
   "metadata": {
    "id": "rtxDc6QFVNtk"
   },
   "outputs": [],
   "source": [
    "#X_test = X_new\n",
    "valid_x_predictions = lstm_autoencoder.predict(X_test)\n",
    "mse = np.mean(np.power(X_test - valid_x_predictions, 2), axis=1)\n",
    "\n",
    "error_df = pd.DataFrame({'prediction_error': mse,\n",
    "                         'Predicted_class': flatten(valid_x_predictions).tolist(),\n",
    "                        'True_class': flatten(X_test).tolist()})\n",
    "\n",
    "ax = error_df.plot()\n",
    "ax.set_xlabel('Inputs')\n",
    "ax.set_ylabel('mean sq. prediction_error')\n"
   ]
  },
  {
   "cell_type": "code",
   "execution_count": null,
   "metadata": {
    "id": "VVPWHL81VN6V"
   },
   "outputs": [],
   "source": [
    "while True:\n",
    "  x = 1"
   ]
  }
 ],
 "metadata": {
  "colab": {
   "collapsed_sections": [],
   "name": "plot_7c_lstm_autoencoder_all_data.ipynb",
   "provenance": []
  },
  "kernelspec": {
   "display_name": "Python 3",
   "language": "python",
   "name": "python3"
  },
  "language_info": {
   "codemirror_mode": {
    "name": "ipython",
    "version": 3
   },
   "file_extension": ".py",
   "mimetype": "text/x-python",
   "name": "python",
   "nbconvert_exporter": "python",
   "pygments_lexer": "ipython3",
   "version": "3.6.8"
  }
 },
 "nbformat": 4,
 "nbformat_minor": 1
}
