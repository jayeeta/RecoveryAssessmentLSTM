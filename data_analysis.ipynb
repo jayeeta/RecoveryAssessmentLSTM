{
 "cells": [
  {
   "cell_type": "code",
   "execution_count": 1,
   "metadata": {},
   "outputs": [],
   "source": [
    "import pandas as pd"
   ]
  },
  {
   "cell_type": "code",
   "execution_count": 2,
   "metadata": {},
   "outputs": [
    {
     "data": {
      "text/html": [
       "<div>\n",
       "<style scoped>\n",
       "    .dataframe tbody tr th:only-of-type {\n",
       "        vertical-align: middle;\n",
       "    }\n",
       "\n",
       "    .dataframe tbody tr th {\n",
       "        vertical-align: top;\n",
       "    }\n",
       "\n",
       "    .dataframe thead th {\n",
       "        text-align: right;\n",
       "    }\n",
       "</style>\n",
       "<table border=\"1\" class=\"dataframe\">\n",
       "  <thead>\n",
       "    <tr style=\"text-align: right;\">\n",
       "      <th></th>\n",
       "      <th>SUBJECT_ID</th>\n",
       "      <th>SESSION_ID</th>\n",
       "      <th>CLASS_LABEL</th>\n",
       "      <th>CLASS_LABEL_DETAILED</th>\n",
       "      <th>SEX</th>\n",
       "      <th>AGE</th>\n",
       "      <th>HEIGHT</th>\n",
       "      <th>BODY_WEIGHT</th>\n",
       "      <th>BODY_MASS</th>\n",
       "      <th>SHOE_SIZE</th>\n",
       "      <th>AFFECTED_SIDE</th>\n",
       "      <th>SHOD_CONDITION</th>\n",
       "      <th>ORTHOPEDIC_INSOLE</th>\n",
       "      <th>SPEED</th>\n",
       "      <th>READMISSION</th>\n",
       "      <th>SESSION_TYPE</th>\n",
       "      <th>SESSION_DATE</th>\n",
       "      <th>TRAIN</th>\n",
       "      <th>TRAIN_BALANCED</th>\n",
       "      <th>TEST</th>\n",
       "    </tr>\n",
       "  </thead>\n",
       "  <tbody>\n",
       "    <tr>\n",
       "      <th>0</th>\n",
       "      <td>1</td>\n",
       "      <td>29885</td>\n",
       "      <td>HC</td>\n",
       "      <td>HC</td>\n",
       "      <td>1</td>\n",
       "      <td>18</td>\n",
       "      <td>173.0</td>\n",
       "      <td>516.1</td>\n",
       "      <td>52.6</td>\n",
       "      <td>42.0</td>\n",
       "      <td>NaN</td>\n",
       "      <td>1</td>\n",
       "      <td>0.0</td>\n",
       "      <td>2</td>\n",
       "      <td>0</td>\n",
       "      <td>1</td>\n",
       "      <td>29.01.2015</td>\n",
       "      <td>0</td>\n",
       "      <td>0</td>\n",
       "      <td>1</td>\n",
       "    </tr>\n",
       "    <tr>\n",
       "      <th>1</th>\n",
       "      <td>1</td>\n",
       "      <td>29886</td>\n",
       "      <td>HC</td>\n",
       "      <td>HC</td>\n",
       "      <td>1</td>\n",
       "      <td>18</td>\n",
       "      <td>173.0</td>\n",
       "      <td>516.2</td>\n",
       "      <td>52.6</td>\n",
       "      <td>42.0</td>\n",
       "      <td>NaN</td>\n",
       "      <td>1</td>\n",
       "      <td>0.0</td>\n",
       "      <td>1</td>\n",
       "      <td>0</td>\n",
       "      <td>1</td>\n",
       "      <td>29.01.2015</td>\n",
       "      <td>0</td>\n",
       "      <td>0</td>\n",
       "      <td>1</td>\n",
       "    </tr>\n",
       "    <tr>\n",
       "      <th>2</th>\n",
       "      <td>1</td>\n",
       "      <td>29888</td>\n",
       "      <td>HC</td>\n",
       "      <td>HC</td>\n",
       "      <td>1</td>\n",
       "      <td>18</td>\n",
       "      <td>173.0</td>\n",
       "      <td>516.1</td>\n",
       "      <td>52.6</td>\n",
       "      <td>42.0</td>\n",
       "      <td>NaN</td>\n",
       "      <td>1</td>\n",
       "      <td>0.0</td>\n",
       "      <td>3</td>\n",
       "      <td>0</td>\n",
       "      <td>1</td>\n",
       "      <td>29.01.2015</td>\n",
       "      <td>0</td>\n",
       "      <td>0</td>\n",
       "      <td>1</td>\n",
       "    </tr>\n",
       "    <tr>\n",
       "      <th>3</th>\n",
       "      <td>2</td>\n",
       "      <td>888812549</td>\n",
       "      <td>HC</td>\n",
       "      <td>HC</td>\n",
       "      <td>1</td>\n",
       "      <td>51</td>\n",
       "      <td>182.0</td>\n",
       "      <td>752.1</td>\n",
       "      <td>76.7</td>\n",
       "      <td>44.0</td>\n",
       "      <td>NaN</td>\n",
       "      <td>1</td>\n",
       "      <td>0.0</td>\n",
       "      <td>1</td>\n",
       "      <td>0</td>\n",
       "      <td>1</td>\n",
       "      <td>03.08.2017</td>\n",
       "      <td>1</td>\n",
       "      <td>0</td>\n",
       "      <td>0</td>\n",
       "    </tr>\n",
       "    <tr>\n",
       "      <th>4</th>\n",
       "      <td>2</td>\n",
       "      <td>888812550</td>\n",
       "      <td>HC</td>\n",
       "      <td>HC</td>\n",
       "      <td>1</td>\n",
       "      <td>51</td>\n",
       "      <td>182.0</td>\n",
       "      <td>752.4</td>\n",
       "      <td>76.7</td>\n",
       "      <td>44.0</td>\n",
       "      <td>NaN</td>\n",
       "      <td>1</td>\n",
       "      <td>0.0</td>\n",
       "      <td>3</td>\n",
       "      <td>0</td>\n",
       "      <td>1</td>\n",
       "      <td>03.08.2017</td>\n",
       "      <td>1</td>\n",
       "      <td>0</td>\n",
       "      <td>0</td>\n",
       "    </tr>\n",
       "  </tbody>\n",
       "</table>\n",
       "</div>"
      ],
      "text/plain": [
       "   SUBJECT_ID  SESSION_ID CLASS_LABEL CLASS_LABEL_DETAILED  SEX  AGE  HEIGHT  \\\n",
       "0           1       29885          HC                   HC    1   18   173.0   \n",
       "1           1       29886          HC                   HC    1   18   173.0   \n",
       "2           1       29888          HC                   HC    1   18   173.0   \n",
       "3           2   888812549          HC                   HC    1   51   182.0   \n",
       "4           2   888812550          HC                   HC    1   51   182.0   \n",
       "\n",
       "   BODY_WEIGHT  BODY_MASS  SHOE_SIZE  AFFECTED_SIDE  SHOD_CONDITION  \\\n",
       "0        516.1       52.6       42.0            NaN               1   \n",
       "1        516.2       52.6       42.0            NaN               1   \n",
       "2        516.1       52.6       42.0            NaN               1   \n",
       "3        752.1       76.7       44.0            NaN               1   \n",
       "4        752.4       76.7       44.0            NaN               1   \n",
       "\n",
       "   ORTHOPEDIC_INSOLE  SPEED  READMISSION  SESSION_TYPE SESSION_DATE  TRAIN  \\\n",
       "0                0.0      2            0             1   29.01.2015      0   \n",
       "1                0.0      1            0             1   29.01.2015      0   \n",
       "2                0.0      3            0             1   29.01.2015      0   \n",
       "3                0.0      1            0             1   03.08.2017      1   \n",
       "4                0.0      3            0             1   03.08.2017      1   \n",
       "\n",
       "   TRAIN_BALANCED  TEST  \n",
       "0               0     1  \n",
       "1               0     1  \n",
       "2               0     1  \n",
       "3               0     0  \n",
       "4               0     0  "
      ]
     },
     "execution_count": 2,
     "metadata": {},
     "output_type": "execute_result"
    }
   ],
   "source": [
    "metadata = pd.read_csv(r'GRF_metadata.csv')\n",
    "metadata.head()"
   ]
  },
  {
   "cell_type": "code",
   "execution_count": 9,
   "metadata": {},
   "outputs": [
    {
     "data": {
      "text/plain": [
       "(627,)"
      ]
     },
     "execution_count": 9,
     "metadata": {},
     "output_type": "execute_result"
    }
   ],
   "source": [
    "import numpy as np\n",
    "label = \"A\" #HC, C, H, K, A\n",
    "subject_df = pd.DataFrame(metadata.loc[metadata['CLASS_LABEL'] == label]['SUBJECT_ID'])\n",
    "subjects = subject_df['SUBJECT_ID'].unique()\n",
    "np.shape(subjects)"
   ]
  },
  {
   "cell_type": "code",
   "execution_count": 32,
   "metadata": {},
   "outputs": [
    {
     "data": {
      "text/plain": [
       "array([19590, 19591, 19592, 19593, 19594, 19595], dtype=int64)"
      ]
     },
     "execution_count": 32,
     "metadata": {},
     "output_type": "execute_result"
    }
   ],
   "source": [
    "data = pd.read_csv(r'GRF_F_V_PRO_left.csv')\n",
    "session_df = pd.DataFrame(data.loc[data['SUBJECT_ID'] == subjects[9]]['SESSION_ID'])\n",
    "sessions = session_df['SESSION_ID'].unique()\n",
    "sessions"
   ]
  },
  {
   "cell_type": "code",
   "execution_count": 43,
   "metadata": {},
   "outputs": [],
   "source": [
    "#select the subjects with more than 4 sessions\n",
    "selected = []\n",
    "for s_count in range(len(subjects)):\n",
    "    session_df = pd.DataFrame(data.loc[data['SUBJECT_ID'] == subjects[s_count]]['SESSION_ID'])\n",
    "    sessions = session_df['SESSION_ID'].unique()\n",
    "    if len(sessions) > 4:\n",
    "        selected.append([s_count, len(sessions)])"
   ]
  },
  {
   "cell_type": "code",
   "execution_count": 42,
   "metadata": {},
   "outputs": [],
   "source": [
    "import numpy as np\n",
    "selected_arr = np.array(selected)\n",
    "np.savetxt('selected_subjects.csv', selected_arr, delimiter=',')"
   ]
  },
  {
   "cell_type": "code",
   "execution_count": null,
   "metadata": {},
   "outputs": [],
   "source": []
  }
 ],
 "metadata": {
  "kernelspec": {
   "display_name": "Python 3",
   "language": "python",
   "name": "python3"
  },
  "language_info": {
   "codemirror_mode": {
    "name": "ipython",
    "version": 3
   },
   "file_extension": ".py",
   "mimetype": "text/x-python",
   "name": "python",
   "nbconvert_exporter": "python",
   "pygments_lexer": "ipython3",
   "version": "3.6.8"
  }
 },
 "nbformat": 4,
 "nbformat_minor": 4
}
