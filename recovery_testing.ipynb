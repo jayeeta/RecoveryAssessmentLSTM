{
 "cells": [
  {
   "cell_type": "code",
   "execution_count": 1,
   "metadata": {
    "id": "zBBma4g6ZHkx"
   },
   "outputs": [],
   "source": [
    "%matplotlib inline\n",
    "import matplotlib.pyplot as plt\n",
    "import seaborn as sns\n",
    "\n",
    "import pandas as pd\n",
    "import numpy as np\n",
    "from pylab import rcParams\n",
    "\n",
    "import tensorflow as tf\n",
    "from tensorflow.keras import optimizers, Sequential\n",
    "from tensorflow.keras.models import Model\n",
    "from tensorflow.keras.utils import plot_model\n",
    "from tensorflow.keras.layers import Dense, LSTM, RepeatVector, TimeDistributed\n",
    "from tensorflow.keras.callbacks import ModelCheckpoint, TensorBoard\n",
    "\n",
    "from sklearn.preprocessing import StandardScaler, MinMaxScaler\n",
    "from sklearn.model_selection import train_test_split\n",
    "from sklearn.metrics import confusion_matrix, precision_recall_curve\n",
    "from sklearn.metrics import recall_score, classification_report, auc, roc_curve\n",
    "from sklearn.metrics import precision_recall_fscore_support, f1_score\n",
    "\n",
    "from numpy.random import seed\n",
    "seed(7)"
   ]
  },
  {
   "cell_type": "code",
   "execution_count": 2,
   "metadata": {
    "id": "kqwABCehh0EE"
   },
   "outputs": [],
   "source": []
  },
  {
   "cell_type": "code",
   "execution_count": 4,
   "metadata": {
    "colab": {
     "background_save": true
    },
    "id": "vCtLYLATZWnG"
   },
   "outputs": [],
   "source": [
    "def export_csv():\n",
    "    # Left lower extremity\n",
    "    res = {}\n",
    "    #path = 'F:\\\\IDM_Downloads\\\\GaitRec\\\\'\n",
    "    # Left lower extremity\n",
    "    #res['GRF_F_V_PRO_left'] = pd.read_csv(r'GRF_F_V_PRO_left.csv')\n",
    "\n",
    "    #res['GRF_F_AP_PRO_left'] = pd.read_csv(r'GRF_F_AP_PRO_left.csv')\n",
    "\n",
    "    #res['GRF_F_ML_PRO_left'] = pd.read_csv(r'GRF_F_ML_PRO_left.csv')\n",
    "\n",
    "    #res['GRF_COP_AP_PRO_left'] = pd.read_csv(r'GRF_COP_AP_PRO_left.csv')\n",
    "\n",
    "    #res['GRF_COP_ML_PRO_left'] = pd.read_csv(r'GRF_COP_ML_PRO_left.csv')\n",
    "\n",
    "    # Right lower extremity\n",
    "    #res['GRF_F_V_PRO_right'] = pd.read_csv(r'GRF_F_V_PRO_right.csv')\n",
    "\n",
    "    #res['GRF_F_AP_PRO_right'] = pd.read_csv(r'GRF_F_AP_PRO_right.csv')\n",
    "\n",
    "    res['GRF_F_ML_PRO_right'] = pd.read_csv(r'GRF_F_ML_PRO_right.csv')\n",
    "\n",
    "    #res['GRF_COP_AP_PRO_right'] = pd.read_csv(r'GRF_COP_AP_PRO_right.csv')\n",
    "\n",
    "    #res['GRF_COP_ML_PRO_right'] = pd.read_csv(r'F:\\\\IDM_Downloads\\\\GaitRec\\\\GRF_COP_ML_PRO_right.csv')\n",
    "\n",
    "    # Annotations and Metadata\n",
    "    res['GRF_Annotation'] = pd.read_csv(r'GRF_metadata.csv')\n",
    "    return res"
   ]
  },
  {
   "cell_type": "code",
   "execution_count": 5,
   "metadata": {
    "id": "-tDfsLNAaJRI"
   },
   "outputs": [],
   "source": [
    "df_dict = export_csv()"
   ]
  },
  {
   "cell_type": "code",
   "execution_count": 7,
   "metadata": {
    "id": "vdtpBXE8aLN_"
   },
   "outputs": [
    {
     "name": "stdout",
     "output_type": "stream",
     "text": [
      "WARNING:tensorflow:Layer lstm_5 will not use cuDNN kernel since it doesn't meet the cuDNN kernel criteria. It will use generic GPU kernel as fallback when running on GPU\n",
      "WARNING:tensorflow:Layer lstm_6 will not use cuDNN kernel since it doesn't meet the cuDNN kernel criteria. It will use generic GPU kernel as fallback when running on GPU\n",
      "WARNING:tensorflow:Layer lstm_7 will not use cuDNN kernel since it doesn't meet the cuDNN kernel criteria. It will use generic GPU kernel as fallback when running on GPU\n",
      "WARNING:tensorflow:Layer lstm_8 will not use cuDNN kernel since it doesn't meet the cuDNN kernel criteria. It will use generic GPU kernel as fallback when running on GPU\n",
      "WARNING:tensorflow:Layer lstm_9 will not use cuDNN kernel since it doesn't meet the cuDNN kernel criteria. It will use generic GPU kernel as fallback when running on GPU\n"
     ]
    }
   ],
   "source": [
    "lstm_autoencoder_right = tf.keras.models.load_model('outputs/lstm_auto_080121_right_ML_84816en.h5')\n",
    "#autoencoder_left = tf.keras.models.load_model('outputs/lstm_auto_080121_left_ML_84816en.h5')"
   ]
  },
  {
   "cell_type": "code",
   "execution_count": 9,
   "metadata": {},
   "outputs": [
    {
     "name": "stdout",
     "output_type": "stream",
     "text": [
      "Model: \"sequential_1\"\n",
      "_________________________________________________________________\n",
      "Layer (type)                 Output Shape              Param #   \n",
      "=================================================================\n",
      "lstm_5 (LSTM)                (None, 16, 16)            1152      \n",
      "_________________________________________________________________\n",
      "lstm_6 (LSTM)                (None, 16, 8)             800       \n",
      "_________________________________________________________________\n",
      "lstm_7 (LSTM)                (None, 4)                 208       \n",
      "_________________________________________________________________\n",
      "repeat_vector_1 (RepeatVecto (None, 16, 4)             0         \n",
      "_________________________________________________________________\n",
      "lstm_8 (LSTM)                (None, 16, 8)             416       \n",
      "_________________________________________________________________\n",
      "lstm_9 (LSTM)                (None, 16, 16)            1600      \n",
      "_________________________________________________________________\n",
      "time_distributed_1 (TimeDist (None, 16, 1)             17        \n",
      "=================================================================\n",
      "Total params: 4,193\n",
      "Trainable params: 4,193\n",
      "Non-trainable params: 0\n",
      "_________________________________________________________________\n"
     ]
    }
   ],
   "source": [
    "#lstm_autoencoder_left.summary()\n",
    "lstm_autoencoder_right.summary()"
   ]
  },
  {
   "cell_type": "code",
   "execution_count": null,
   "metadata": {},
   "outputs": [],
   "source": [
    "scaler = MinMaxScaler(feature_range=(0, 1))"
   ]
  },
  {
   "cell_type": "code",
   "execution_count": 10,
   "metadata": {
    "id": "0fJKwRL5eHIP"
   },
   "outputs": [],
   "source": [
    "def get_data_series(X_data, serie_size):\n",
    "    #first_step = 0 #X_data.shape[1] - serie_size - 1\n",
    "    #print(X_data.shape)\n",
    "    last_step = X_data.shape[1]\n",
    "    data_series = []\n",
    "    for row in X_data:\n",
    "        for step1 in range(last_step - serie_size):\n",
    "            serie = row[step1 : step1 + serie_size]\n",
    "            # for step2 in range(serie_size):\n",
    "            #     serie.append(row[step1 + step2])\n",
    "            data_series.append(serie)\n",
    "    res = np.array(np.squeeze(np.array(data_series)))\n",
    "    #print(res.shape)\n",
    "    return res"
   ]
  },
  {
   "cell_type": "code",
   "execution_count": 11,
   "metadata": {
    "id": "pEKhNy9Ydm0k"
   },
   "outputs": [],
   "source": [
    "def get_Inputs(grf, meta, label):\n",
    "    subject_id = meta.loc[meta[\"CLASS_LABEL\"]==label][\"SUBJECT_ID\"].unique()\n",
    "    subject_id = pd.DataFrame({\"SUBJECT_ID\": subject_id})\n",
    "    grf = subject_id.merge(grf, on=\"SUBJECT_ID\", how = \"inner\")\n",
    "    #grf = grf.drop_duplicates(['SUBJECT_ID'], keep = 'first')\n",
    "    grf.drop(grf.columns[:3], axis = 1)\n",
    "    res = np.array(grf)\n",
    "    return res"
   ]
  },
  {
   "cell_type": "code",
   "execution_count": 12,
   "metadata": {
    "id": "ZoSfYtEYdoiZ"
   },
   "outputs": [],
   "source": [
    "def get_all_sensor_data(label):\n",
    "    X_data = None\n",
    "    for key in df_dict:\n",
    "        if key== 'GRF_Annotation': \n",
    "            continue\n",
    "        temp = get_Inputs(df_dict[key], df_dict['GRF_Annotation'], label)\n",
    "        if X_data is None:\n",
    "            X_data = temp\n",
    "        else:\n",
    "            X_data = np.append(X_data, temp, axis=0)\n",
    "    return X_data"
   ]
  },
  {
   "cell_type": "code",
   "execution_count": 13,
   "metadata": {
    "colab": {
     "base_uri": "https://localhost:8080/",
     "height": 224
    },
    "id": "PgDTllwM6FtY",
    "outputId": "bdfc3caf-73fa-4d4f-a1e7-8be335e5a163"
   },
   "outputs": [
    {
     "data": {
      "text/html": [
       "<div>\n",
       "<style scoped>\n",
       "    .dataframe tbody tr th:only-of-type {\n",
       "        vertical-align: middle;\n",
       "    }\n",
       "\n",
       "    .dataframe tbody tr th {\n",
       "        vertical-align: top;\n",
       "    }\n",
       "\n",
       "    .dataframe thead th {\n",
       "        text-align: right;\n",
       "    }\n",
       "</style>\n",
       "<table border=\"1\" class=\"dataframe\">\n",
       "  <thead>\n",
       "    <tr style=\"text-align: right;\">\n",
       "      <th></th>\n",
       "      <th>SUBJECT_ID</th>\n",
       "      <th>SESSION_ID</th>\n",
       "      <th>CLASS_LABEL</th>\n",
       "      <th>CLASS_LABEL_DETAILED</th>\n",
       "      <th>SEX</th>\n",
       "      <th>AGE</th>\n",
       "      <th>HEIGHT</th>\n",
       "      <th>BODY_WEIGHT</th>\n",
       "      <th>BODY_MASS</th>\n",
       "      <th>SHOE_SIZE</th>\n",
       "      <th>AFFECTED_SIDE</th>\n",
       "      <th>SHOD_CONDITION</th>\n",
       "      <th>ORTHOPEDIC_INSOLE</th>\n",
       "      <th>SPEED</th>\n",
       "      <th>READMISSION</th>\n",
       "      <th>SESSION_TYPE</th>\n",
       "      <th>SESSION_DATE</th>\n",
       "      <th>TRAIN</th>\n",
       "      <th>TRAIN_BALANCED</th>\n",
       "      <th>TEST</th>\n",
       "    </tr>\n",
       "  </thead>\n",
       "  <tbody>\n",
       "    <tr>\n",
       "      <th>0</th>\n",
       "      <td>1</td>\n",
       "      <td>29885</td>\n",
       "      <td>HC</td>\n",
       "      <td>HC</td>\n",
       "      <td>1</td>\n",
       "      <td>18</td>\n",
       "      <td>173.0</td>\n",
       "      <td>516.1</td>\n",
       "      <td>52.6</td>\n",
       "      <td>42.0</td>\n",
       "      <td>NaN</td>\n",
       "      <td>1</td>\n",
       "      <td>0.0</td>\n",
       "      <td>2</td>\n",
       "      <td>0</td>\n",
       "      <td>1</td>\n",
       "      <td>29.01.2015</td>\n",
       "      <td>0</td>\n",
       "      <td>0</td>\n",
       "      <td>1</td>\n",
       "    </tr>\n",
       "    <tr>\n",
       "      <th>1</th>\n",
       "      <td>1</td>\n",
       "      <td>29886</td>\n",
       "      <td>HC</td>\n",
       "      <td>HC</td>\n",
       "      <td>1</td>\n",
       "      <td>18</td>\n",
       "      <td>173.0</td>\n",
       "      <td>516.2</td>\n",
       "      <td>52.6</td>\n",
       "      <td>42.0</td>\n",
       "      <td>NaN</td>\n",
       "      <td>1</td>\n",
       "      <td>0.0</td>\n",
       "      <td>1</td>\n",
       "      <td>0</td>\n",
       "      <td>1</td>\n",
       "      <td>29.01.2015</td>\n",
       "      <td>0</td>\n",
       "      <td>0</td>\n",
       "      <td>1</td>\n",
       "    </tr>\n",
       "    <tr>\n",
       "      <th>2</th>\n",
       "      <td>1</td>\n",
       "      <td>29888</td>\n",
       "      <td>HC</td>\n",
       "      <td>HC</td>\n",
       "      <td>1</td>\n",
       "      <td>18</td>\n",
       "      <td>173.0</td>\n",
       "      <td>516.1</td>\n",
       "      <td>52.6</td>\n",
       "      <td>42.0</td>\n",
       "      <td>NaN</td>\n",
       "      <td>1</td>\n",
       "      <td>0.0</td>\n",
       "      <td>3</td>\n",
       "      <td>0</td>\n",
       "      <td>1</td>\n",
       "      <td>29.01.2015</td>\n",
       "      <td>0</td>\n",
       "      <td>0</td>\n",
       "      <td>1</td>\n",
       "    </tr>\n",
       "    <tr>\n",
       "      <th>3</th>\n",
       "      <td>2</td>\n",
       "      <td>888812549</td>\n",
       "      <td>HC</td>\n",
       "      <td>HC</td>\n",
       "      <td>1</td>\n",
       "      <td>51</td>\n",
       "      <td>182.0</td>\n",
       "      <td>752.1</td>\n",
       "      <td>76.7</td>\n",
       "      <td>44.0</td>\n",
       "      <td>NaN</td>\n",
       "      <td>1</td>\n",
       "      <td>0.0</td>\n",
       "      <td>1</td>\n",
       "      <td>0</td>\n",
       "      <td>1</td>\n",
       "      <td>03.08.2017</td>\n",
       "      <td>1</td>\n",
       "      <td>0</td>\n",
       "      <td>0</td>\n",
       "    </tr>\n",
       "    <tr>\n",
       "      <th>4</th>\n",
       "      <td>2</td>\n",
       "      <td>888812550</td>\n",
       "      <td>HC</td>\n",
       "      <td>HC</td>\n",
       "      <td>1</td>\n",
       "      <td>51</td>\n",
       "      <td>182.0</td>\n",
       "      <td>752.4</td>\n",
       "      <td>76.7</td>\n",
       "      <td>44.0</td>\n",
       "      <td>NaN</td>\n",
       "      <td>1</td>\n",
       "      <td>0.0</td>\n",
       "      <td>3</td>\n",
       "      <td>0</td>\n",
       "      <td>1</td>\n",
       "      <td>03.08.2017</td>\n",
       "      <td>1</td>\n",
       "      <td>0</td>\n",
       "      <td>0</td>\n",
       "    </tr>\n",
       "  </tbody>\n",
       "</table>\n",
       "</div>"
      ],
      "text/plain": [
       "   SUBJECT_ID  SESSION_ID CLASS_LABEL CLASS_LABEL_DETAILED  SEX  AGE  HEIGHT  \\\n",
       "0           1       29885          HC                   HC    1   18   173.0   \n",
       "1           1       29886          HC                   HC    1   18   173.0   \n",
       "2           1       29888          HC                   HC    1   18   173.0   \n",
       "3           2   888812549          HC                   HC    1   51   182.0   \n",
       "4           2   888812550          HC                   HC    1   51   182.0   \n",
       "\n",
       "   BODY_WEIGHT  BODY_MASS  SHOE_SIZE  AFFECTED_SIDE  SHOD_CONDITION  \\\n",
       "0        516.1       52.6       42.0            NaN               1   \n",
       "1        516.2       52.6       42.0            NaN               1   \n",
       "2        516.1       52.6       42.0            NaN               1   \n",
       "3        752.1       76.7       44.0            NaN               1   \n",
       "4        752.4       76.7       44.0            NaN               1   \n",
       "\n",
       "   ORTHOPEDIC_INSOLE  SPEED  READMISSION  SESSION_TYPE SESSION_DATE  TRAIN  \\\n",
       "0                0.0      2            0             1   29.01.2015      0   \n",
       "1                0.0      1            0             1   29.01.2015      0   \n",
       "2                0.0      3            0             1   29.01.2015      0   \n",
       "3                0.0      1            0             1   03.08.2017      1   \n",
       "4                0.0      3            0             1   03.08.2017      1   \n",
       "\n",
       "   TRAIN_BALANCED  TEST  \n",
       "0               0     1  \n",
       "1               0     1  \n",
       "2               0     1  \n",
       "3               0     0  \n",
       "4               0     0  "
      ]
     },
     "execution_count": 13,
     "metadata": {},
     "output_type": "execute_result"
    }
   ],
   "source": [
    "df_dict['GRF_Annotation'].head()"
   ]
  },
  {
   "cell_type": "code",
   "execution_count": 14,
   "metadata": {
    "colab": {
     "base_uri": "https://localhost:8080/",
     "height": 100
    },
    "id": "MnMdVBkB78KZ",
    "outputId": "82a4d466-99ca-49c5-b6a7-2927d71ab915"
   },
   "outputs": [
    {
     "data": {
      "text/html": [
       "<div>\n",
       "<style scoped>\n",
       "    .dataframe tbody tr th:only-of-type {\n",
       "        vertical-align: middle;\n",
       "    }\n",
       "\n",
       "    .dataframe tbody tr th {\n",
       "        vertical-align: top;\n",
       "    }\n",
       "\n",
       "    .dataframe thead th {\n",
       "        text-align: right;\n",
       "    }\n",
       "</style>\n",
       "<table border=\"1\" class=\"dataframe\">\n",
       "  <thead>\n",
       "    <tr style=\"text-align: right;\">\n",
       "      <th></th>\n",
       "      <th>SUBJECT_ID</th>\n",
       "      <th>SESSION_ID</th>\n",
       "      <th>CLASS_LABEL</th>\n",
       "      <th>CLASS_LABEL_DETAILED</th>\n",
       "      <th>SEX</th>\n",
       "      <th>AGE</th>\n",
       "      <th>HEIGHT</th>\n",
       "      <th>BODY_WEIGHT</th>\n",
       "      <th>BODY_MASS</th>\n",
       "      <th>SHOE_SIZE</th>\n",
       "      <th>AFFECTED_SIDE</th>\n",
       "      <th>SHOD_CONDITION</th>\n",
       "      <th>ORTHOPEDIC_INSOLE</th>\n",
       "      <th>SPEED</th>\n",
       "      <th>READMISSION</th>\n",
       "      <th>SESSION_TYPE</th>\n",
       "      <th>SESSION_DATE</th>\n",
       "      <th>TRAIN</th>\n",
       "      <th>TRAIN_BALANCED</th>\n",
       "      <th>TEST</th>\n",
       "    </tr>\n",
       "  </thead>\n",
       "  <tbody>\n",
       "    <tr>\n",
       "      <th>4034</th>\n",
       "      <td>1087</td>\n",
       "      <td>12046</td>\n",
       "      <td>K</td>\n",
       "      <td>K_PFR</td>\n",
       "      <td>1</td>\n",
       "      <td>46</td>\n",
       "      <td>NaN</td>\n",
       "      <td>830.9</td>\n",
       "      <td>84.7</td>\n",
       "      <td>NaN</td>\n",
       "      <td>1.0</td>\n",
       "      <td>1</td>\n",
       "      <td>0.0</td>\n",
       "      <td>2</td>\n",
       "      <td>0</td>\n",
       "      <td>2</td>\n",
       "      <td>21.01.2010</td>\n",
       "      <td>1</td>\n",
       "      <td>0</td>\n",
       "      <td>0</td>\n",
       "    </tr>\n",
       "  </tbody>\n",
       "</table>\n",
       "</div>"
      ],
      "text/plain": [
       "      SUBJECT_ID  SESSION_ID CLASS_LABEL CLASS_LABEL_DETAILED  SEX  AGE  \\\n",
       "4034        1087       12046           K                K_PFR    1   46   \n",
       "\n",
       "      HEIGHT  BODY_WEIGHT  BODY_MASS  SHOE_SIZE  AFFECTED_SIDE  \\\n",
       "4034     NaN        830.9       84.7        NaN            1.0   \n",
       "\n",
       "      SHOD_CONDITION  ORTHOPEDIC_INSOLE  SPEED  READMISSION  SESSION_TYPE  \\\n",
       "4034               1                0.0      2            0             2   \n",
       "\n",
       "     SESSION_DATE  TRAIN  TRAIN_BALANCED  TEST  \n",
       "4034   21.01.2010      1               0     0  "
      ]
     },
     "execution_count": 14,
     "metadata": {},
     "output_type": "execute_result"
    }
   ],
   "source": [
    "df_dict['GRF_Annotation'].loc[df_dict['GRF_Annotation'][\"SUBJECT_ID\"]==1087]"
   ]
  },
  {
   "cell_type": "code",
   "execution_count": 15,
   "metadata": {
    "id": "_ilL1eZ3oTxX"
   },
   "outputs": [],
   "source": [
    "def get_box_plot_list(lable, model, keys) :\n",
    "    top = []\n",
    "    middel = []\n",
    "    last = []\n",
    "    meta = df_dict['GRF_Annotation']\n",
    "    for key in keys:\n",
    "        grf = df_dict[key]\n",
    "        subject_id = meta.loc[meta[\"CLASS_LABEL\"]==lable][\"SUBJECT_ID\"].unique()\n",
    "        grf = (pd.DataFrame({\"SUBJECT_ID\": subject_id})).merge(grf, on=\"SUBJECT_ID\", how = \"inner\")\n",
    "        for id in subject_id:\n",
    "            session_id = meta.loc[meta[\"SUBJECT_ID\"]==id][\"SESSION_ID\"].unique()\n",
    "            if len(session_id)<5:\n",
    "                continue\n",
    "            #first\n",
    "            temp_X = None\n",
    "            temp_X = grf.loc[grf[\"SESSION_ID\"]==session_id[0]]\n",
    "            temp_X = temp_X.iloc[:,3:].values\n",
    "            temp_X = scaler.fit_transform(temp_X)\n",
    "            temp_X = get_data_series(temp_X, 16)\n",
    "            temp_X = temp_X.reshape(temp_X.shape[0], temp_X.shape[1], 1)\n",
    "            valid_x_predictions = model.predict(temp_X)\n",
    "            top.append(np.mean(np.power(temp_X - valid_x_predictions, 2)))\n",
    "            #last\n",
    "            temp_X = grf.loc[grf[\"SESSION_ID\"]==session_id[-1]]\n",
    "            temp_X = temp_X.iloc[:,3:].values\n",
    "            temp_X = scaler.fit_transform(temp_X)\n",
    "            temp_X = get_data_series(temp_X, 16)\n",
    "            temp_X = temp_X.reshape(temp_X.shape[0], temp_X.shape[1], 1)\n",
    "            valid_x_predictions = model.predict(temp_X)\n",
    "            last.append(np.mean(np.power(temp_X - valid_x_predictions, 2)))\n",
    "            #middle\n",
    "            if len(session_id)%2 == 0:\n",
    "                temp_X = grf.loc[grf[\"SESSION_ID\"]==session_id[len(session_id)//2]]\n",
    "                temp_X = temp_X.iloc[:,3:].values\n",
    "                temp_X = scaler.fit_transform(temp_X)\n",
    "                temp_X = get_data_series(temp_X, 16)\n",
    "                temp_X = temp_X.reshape(temp_X.shape[0], temp_X.shape[1], 1)\n",
    "                valid_x_predictions = model.predict(temp_X)\n",
    "                middel.append(np.mean(np.power(temp_X - valid_x_predictions, 2)))\n",
    "\n",
    "                temp_X = grf.loc[grf[\"SESSION_ID\"]==session_id[len(session_id)//2+1]]\n",
    "                temp_X = temp_X.iloc[:,3:].values\n",
    "                temp_X = scaler.fit_transform(temp_X)\n",
    "                temp_X = get_data_series(temp_X, 16)\n",
    "                temp_X = temp_X.reshape(temp_X.shape[0], temp_X.shape[1], 1)\n",
    "                valid_x_predictions = model.predict(temp_X)\n",
    "                middel[-1] = (middel[-1] + np.mean(np.power(temp_X - valid_x_predictions, 2)))/2\n",
    "            else:\n",
    "                temp_X = grf.loc[grf[\"SESSION_ID\"]==session_id[len(session_id)//2]]\n",
    "                temp_X = temp_X.iloc[:,3:].values\n",
    "                temp_X = scaler.fit_transform(temp_X)\n",
    "                temp_X = get_data_series(temp_X, 16)\n",
    "                temp_X = temp_X.reshape(temp_X.shape[0], temp_X.shape[1], 1)\n",
    "                valid_x_predictions = model.predict(temp_X)\n",
    "                middel.append(np.mean(np.power(temp_X - valid_x_predictions, 2)))\n",
    "    return top, middel, last"
   ]
  },
  {
   "cell_type": "code",
   "execution_count": 16,
   "metadata": {},
   "outputs": [],
   "source": [
    "#left_leg_sensors = ['GRF_F_ML_PRO_left']#, 'GRF_F_AP_PRO_left', 'GRF_F_ML_PRO_left', 'GRF_COP_AP_PRO_left', 'GRF_COP_ML_PRO_left']\n",
    "right_leg_sensors = ['GRF_F_ML_PRO_right']#, 'GRF_F_AP_PRO_right', 'GRF_F_ML_PRO_right', 'GRF_COP_AP_PRO_right', 'GRF_COP_ML_PRO_right']\n",
    "class_labels = ['A']"
   ]
  },
  {
   "cell_type": "code",
   "execution_count": 17,
   "metadata": {},
   "outputs": [],
   "source": [
    "def rej_fliers_iqr(seq, rng=0.99):#rejects the outliers outside iqr range\n",
    "    percent = (1 - rng) / 2\n",
    "    iqr_low, median, iqr_high = seq.dropna().quantile([percent, 0.50, 1-percent])\n",
    "    iqr = iqr_high - iqr_low\n",
    "    return seq[ (seq - median).abs() <= iqr]"
   ]
  },
  {
   "cell_type": "code",
   "execution_count": 18,
   "metadata": {},
   "outputs": [],
   "source": [
    "def getTitle(label):\n",
    "    if label==\"HC\":\n",
    "        return \"Healthy Controls\"\n",
    "    elif label==\"K\":\n",
    "        return \"Knee impairment \"\n",
    "    elif label==\"A\":\n",
    "        return \"Ankle impairment\"\n",
    "    elif label==\"H\":\n",
    "        return \"Hip impairment\"\n",
    "    else:\n",
    "        return \"Calcaneus impairment\""
   ]
  },
  {
   "cell_type": "code",
   "execution_count": 19,
   "metadata": {},
   "outputs": [],
   "source": [
    "import matplotlib\n",
    "\n",
    "SMALL_SIZE = 20\n",
    "MEDIUM_SIZE = 25\n",
    "BIGGER_SIZE = 30\n",
    "#matplotlib.rc('font', size=SMALL_SIZE)\n",
    "matplotlib.rc('axes', titlesize=BIGGER_SIZE)\n",
    "matplotlib.rc('axes', labelsize=MEDIUM_SIZE)\n",
    "matplotlib.rc('xtick', labelsize=SMALL_SIZE)    # fontsize of the tick labels\n",
    "matplotlib.rc('ytick', labelsize=MEDIUM_SIZE)    # fontsize of the tick labels\n",
    "matplotlib.rc('legend', fontsize=SMALL_SIZE)    # legend fontsize\n",
    "matplotlib.rc('figure', titlesize=BIGGER_SIZE) "
   ]
  },
  {
   "cell_type": "code",
   "execution_count": 20,
   "metadata": {},
   "outputs": [
    {
     "name": "stdout",
     "output_type": "stream",
     "text": [
      "WARNING:tensorflow:AutoGraph could not transform <function Model.make_predict_function.<locals>.predict_function at 0x0000020FC1599598> and will run it as-is.\n",
      "Please report this to the TensorFlow team. When filing the bug, set the verbosity to 10 (on Linux, `export AUTOGRAPH_VERBOSITY=10`) and attach the full output.\n",
      "Cause: Bad argument number for Name: 4, expecting 3\n",
      "To silence this warning, decorate the function with @tf.autograph.experimental.do_not_convert\n",
      "WARNING: AutoGraph could not transform <function Model.make_predict_function.<locals>.predict_function at 0x0000020FC1599598> and will run it as-is.\n",
      "Please report this to the TensorFlow team. When filing the bug, set the verbosity to 10 (on Linux, `export AUTOGRAPH_VERBOSITY=10`) and attach the full output.\n",
      "Cause: Bad argument number for Name: 4, expecting 3\n",
      "To silence this warning, decorate the function with @tf.autograph.experimental.do_not_convert\n",
      "A : 0.0055578040802152 0.0032718677346735324 0.002676683823086553\n"
     ]
    },
    {
     "data": {
      "text/plain": [
       "<Figure size 1440x1440 with 0 Axes>"
      ]
     },
     "metadata": {},
     "output_type": "display_data"
    },
    {
     "data": {
      "image/png": "[encoded data removed]",
      "text/plain": [
       "<Figure size 576x432 with 1 Axes>"
      ]
     },
     "metadata": {
      "needs_background": "light"
     },
     "output_type": "display_data"
    }
   ],
   "source": [
    "for label in class_labels:\n",
    "        top, middle, last = get_box_plot_list(label, lstm_autoencoder_right, right_leg_sensors)\n",
    "        top = rej_fliers_iqr(pd.Series(top), 0.9)\n",
    "        middle = rej_fliers_iqr(pd.Series(middle), 0.9)\n",
    "        last = rej_fliers_iqr(pd.Series(last), 0.9)\n",
    "        data = [top, middle, last]\n",
    "        data_m_start = np.mean(top)\n",
    "        data_m_intr = np.mean(middle)\n",
    "        data_m_end = np.mean(last)\n",
    "        print(label, \":\", data_m_start, data_m_intr, data_m_end)\n",
    "        plt.figure(figsize= (20,20))\n",
    "        fig, ax = plt.subplots()\n",
    "        #ax.set_title('class {} - Left lower extremity'.format(getTitle(label)))\n",
    "        ax.boxplot(data)\n",
    "        ax.set_ylabel('Reconstruction Loss')\n",
    "        ax.set_xticklabels(['Beginning', 'Intermediate', 'Ending'])\n",
    "        file_nm = 'new_right_ML_corrected'+format(getTitle(label))+'90.png'\n",
    "        plt.savefig(file_nm, bbox_inches='tight', dpi= 100)\n",
    "        plt.show()"
   ]
  },
  {
   "cell_type": "code",
   "execution_count": null,
   "metadata": {},
   "outputs": [],
   "source": [
    "V-axis\n",
    "K : 0.004203931532116741 0.0027187922548652086 0.0023142402479408536\n",
    "H : 0.003743144061146375 0.002838597063534366 0.0024257035708507403\n",
    "C : 0.004534915612131504 0.0032654907452677163 0.0029463954703972408\n",
    "A : 0.004769678867149032 0.0029827835656612233 0.002499888428051085"
   ]
  },
  {
   "cell_type": "code",
   "execution_count": null,
   "metadata": {},
   "outputs": [],
   "source": [
    "AP-axis\n",
    "K : 0.015564994924309985 0.005382152256299727 0.004699649301234361\n",
    "H : 0.00889807287670535 0.00770652381535333 0.007429436210450744\n",
    "C : 0.017456559517862964 0.009766333014906503 0.00653961885459654\n",
    "A : 0.021064550182801414 0.008478778854736245 0.004968113423332842"
   ]
  },
  {
   "cell_type": "code",
   "execution_count": null,
   "metadata": {},
   "outputs": [],
   "source": [
    "ML-axis\n",
    "K : 0.004820188951921757 0.003050621204872957 0.0024792297157890902\n",
    "H : 0.004645596100502807 0.0031631918017256955 0.00330515084819569\n",
    "C : 0.004889341988670792 0.00335390864454166 0.0030677796963494678\n",
    "A : 0.0055578040802152 0.0032718677346735324 0.002676683823086553"
   ]
  },
  {
   "cell_type": "markdown",
   "metadata": {},
   "source": [
    "## Left leg"
   ]
  },
  {
   "cell_type": "code",
   "execution_count": null,
   "metadata": {},
   "outputs": [],
   "source": [
    "K : 0.007301199643341826 0.005075070521412267 0.004374455444301689\n",
    "H : 0.006344398349575069 0.0048767410754657235 0.004496738069718985\n",
    "C : 0.007917562837540219 0.005635572509540336 0.005210821493519432\n",
    "A : 0.008401518493262608 0.005422690289014202 0.0046893195474335654"
   ]
  },
  {
   "cell_type": "code",
   "execution_count": null,
   "metadata": {},
   "outputs": [],
   "source": [
    "K : 0.001882273842528965 0.001312826954445924 0.0010344295600090549\n",
    "H : 0.0016917782286104551 0.0013775422271015913 0.0012798317006529204\n",
    "C : 0.002746792721282349 0.0016561505221276203 0.001399190236066947\n",
    "A : 0.002555248992832136 0.0014502252148502696 0.001240992359587252"
   ]
  },
  {
   "cell_type": "code",
   "execution_count": null,
   "metadata": {},
   "outputs": [],
   "source": [
    "K : 0.0045815316056232 0.0031372146465102327 0.002524609351882927\n",
    "H : 0.004770618693849513 0.003225426438885901 0.002919982621207497\n",
    "C : 0.004955924070916176 0.0030663415423425504 0.0031416563778904174\n",
    "A : 0.005857915697822267 0.0032594619550579147 0.0028257830225461027"
   ]
  }
 ],
 "metadata": {
  "colab": {
   "name": "test.ipynb",
   "provenance": []
  },
  "kernelspec": {
   "display_name": "Python 3",
   "language": "python",
   "name": "python3"
  },
  "language_info": {
   "codemirror_mode": {
    "name": "ipython",
    "version": 3
   },
   "file_extension": ".py",
   "mimetype": "text/x-python",
   "name": "python",
   "nbconvert_exporter": "python",
   "pygments_lexer": "ipython3",
   "version": "3.6.8"
  }
 },
 "nbformat": 4,
 "nbformat_minor": 1
}
